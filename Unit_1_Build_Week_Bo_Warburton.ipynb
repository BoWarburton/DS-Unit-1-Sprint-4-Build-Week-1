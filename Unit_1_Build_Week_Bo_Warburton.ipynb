{
  "nbformat": 4,
  "nbformat_minor": 0,
  "metadata": {
    "colab": {
      "name": "Unit_1_Build_Week_Bo_Warburton.ipynb",
      "provenance": [],
      "authorship_tag": "ABX9TyPffOKSHxma7ebAfldlTIze",
      "include_colab_link": true
    },
    "kernelspec": {
      "name": "python3",
      "display_name": "Python 3"
    }
  },
  "cells": [
    {
      "cell_type": "markdown",
      "metadata": {
        "id": "view-in-github",
        "colab_type": "text"
      },
      "source": [
        "<a href=\"https://colab.research.google.com/github/BoWarburton/DS-Unit-1-Sprint-4-Build-Week-1/blob/master/Unit_1_Build_Week_Bo_Warburton.ipynb\" target=\"_parent\"><img src=\"https://colab.research.google.com/assets/colab-badge.svg\" alt=\"Open In Colab\"/></a>"
      ]
    },
    {
      "cell_type": "markdown",
      "metadata": {
        "id": "bF8h3u8-5YyI",
        "colab_type": "text"
      },
      "source": [
        "### Racial Justice in Connecticut Department of Children and Families Child Welfare Placements\n",
        "\n",
        "Abstract\n",
        "\n",
        "Making reasonable efforts to keep families together is recognized as an important part of achieving successful outcomes in child welfare social work. Part of that is placing children with relatives, as opposed to putting them in a group home or in foster care, when it becomes necessary to remove them from home. In this article, I look at data regarding relative care placements in by the Connecticut Department of Children and Families (DCF) and ask if ethnicity affects placement type.\n",
        "\n",
        "Background\n",
        "\n",
        "In 1990, Connecticut signed a consent decree ending a class-action lawsuit that alleged \"dangerous and unlawful policies and practices\" by child protective services authorities. The consent decree specified 22 outcome measures, established a federally-appointed monitor, and required DCF to build a statewide computer system. DCF then awarded American Management Systems a $13 million systems integration and custom application develoment contract, naming the system LINK. I was a business systems analyst on that project.\n",
        "\n",
        "Data\n",
        "\n",
        "This dataset came out of LINK (as modified over the years). It lists initial placement type by month, DCF office, and ethnicity. It is available to the public at https://catalog.data.gov/dataset/children-entering-dcf-placement-annual-trend-by-race-ethnicity.\n",
        "\n",
        "Question\n",
        "\n",
        "Does DCF treat children impartially with regard to placing them with extended family? In the language of statistics, my null hypothesis is that all children are equally likely to be placed with relatives.\n",
        "\n",
        "Findings\n",
        "\n",
        "The dataset has DCF office, region, ethnicity, and initial placement by month. The raw numbers shown here indicate that that Hispanic and White children are placed with extended family more often than Other and Black. My rationale for including the margin of error is that this data, being from one fiscal year, is a sample of all possible years.\n",
        "\n",
        "Visualization: Raw numbers indicate favorable treatment of White and Hispanic\n",
        "\n",
        "Of course, raw numbers aren't as important as percentages. The charts below show placement rates as percentage of total placements for the entire time period and by month.\n",
        "\n",
        "Visualization: Percentages indicate favorable treatment of White, but not Hispanic\n",
        "\n",
        "The table below showw the results of ANOVA testing. Based on a t value of 17.34 and a p value of 0, I reject the null hypothesis and conclude that ethnicity does affect placement in relative care.\n",
        "\n",
        "Table: ANOVA tests\n",
        "\n",
        "\n",
        "Conclusion\n",
        "\n",
        "There are many assumptions and unknows, including that relative care is better, ratio of children in care to total population, trends over time, differences between DCF office or DCF regions, and ultimate outcomes."
      ]
    },
    {
      "cell_type": "markdown",
      "metadata": {
        "id": "4Cmfw4yNhJSB",
        "colab_type": "text"
      },
      "source": [
        "## Data wrangling"
      ]
    },
    {
      "cell_type": "markdown",
      "metadata": {
        "id": "rlnn7X71hSmL",
        "colab_type": "text"
      },
      "source": [
        "### Import and examine the data"
      ]
    },
    {
      "cell_type": "code",
      "metadata": {
        "id": "phbIsrsdUAik",
        "colab_type": "code",
        "colab": {}
      },
      "source": [
        "import numpy as np\n",
        "import pandas as pd"
      ],
      "execution_count": 0,
      "outputs": []
    },
    {
      "cell_type": "code",
      "metadata": {
        "id": "s63U2uUeU3jk",
        "colab_type": "code",
        "outputId": "a5d6bc5c-cf27-479b-cad3-e04053051b3d",
        "colab": {
          "base_uri": "https://localhost:8080/",
          "height": 558
        }
      },
      "source": [
        "# Children Entering DCF Placement: Annual Trend by Race/Ethnicity\n",
        "# \"This dataset contains aggregate data concerning the number of children who entered DCF placement\n",
        "# during a given SFY (July 1 – June 30).  These figures are broken out by the DCF Region and Office\n",
        "# responsible for the child's care, the child's Race/Ethnicity, and the Placement Type category\n",
        "# into which the child was initially placed.\"\n",
        "# https://catalog.data.gov/dataset/children-entering-dcf-placement-annual-trend-by-race-ethnicity\n",
        "df_original = pd.read_csv('https://raw.githubusercontent.com/BoWarburton/data/master/dcf.csv')\n",
        "df_original.head(100)"
      ],
      "execution_count": 130,
      "outputs": [
        {
          "output_type": "execute_result",
          "data": {
            "text/html": [
              "<div>\n",
              "<style scoped>\n",
              "    .dataframe tbody tr th:only-of-type {\n",
              "        vertical-align: middle;\n",
              "    }\n",
              "\n",
              "    .dataframe tbody tr th {\n",
              "        vertical-align: top;\n",
              "    }\n",
              "\n",
              "    .dataframe thead th {\n",
              "        text-align: right;\n",
              "    }\n",
              "</style>\n",
              "<table border=\"1\" class=\"dataframe\">\n",
              "  <thead>\n",
              "    <tr style=\"text-align: right;\">\n",
              "      <th></th>\n",
              "      <th>Data_as_of</th>\n",
              "      <th>DCF Region</th>\n",
              "      <th>DCF Office</th>\n",
              "      <th>Demographic</th>\n",
              "      <th>SFY</th>\n",
              "      <th>TOTAL_ENTRY</th>\n",
              "      <th>FOSTER_CARE</th>\n",
              "      <th>RELATIVE_CARE</th>\n",
              "      <th>SPECIAL_STUDY</th>\n",
              "      <th>THERAPEUTIC_FOSTER_CARE</th>\n",
              "      <th>PDC_SAFE_HOME</th>\n",
              "      <th>SHELTER</th>\n",
              "      <th>GROUP_HOME</th>\n",
              "      <th>RESIDENTIAL</th>\n",
              "      <th>DCF_HIGHMEADOWS</th>\n",
              "      <th>DCF_SOLNIT</th>\n",
              "      <th>DCF_CJTS</th>\n",
              "      <th>HOSPITAL</th>\n",
              "      <th>INDEPENDENT_LIVING</th>\n",
              "      <th>Demographic_Type</th>\n",
              "    </tr>\n",
              "  </thead>\n",
              "  <tbody>\n",
              "    <tr>\n",
              "      <th>0</th>\n",
              "      <td>08/06/2015</td>\n",
              "      <td>Other</td>\n",
              "      <td>Other</td>\n",
              "      <td>BLACK</td>\n",
              "      <td>2005</td>\n",
              "      <td>77</td>\n",
              "      <td>3</td>\n",
              "      <td>2</td>\n",
              "      <td>0</td>\n",
              "      <td>0</td>\n",
              "      <td>2</td>\n",
              "      <td>0</td>\n",
              "      <td>1</td>\n",
              "      <td>45</td>\n",
              "      <td>0</td>\n",
              "      <td>1</td>\n",
              "      <td>23</td>\n",
              "      <td>0</td>\n",
              "      <td>0</td>\n",
              "      <td>Race</td>\n",
              "    </tr>\n",
              "    <tr>\n",
              "      <th>1</th>\n",
              "      <td>08/06/2015</td>\n",
              "      <td>Other</td>\n",
              "      <td>Other</td>\n",
              "      <td>HISPANIC</td>\n",
              "      <td>2005</td>\n",
              "      <td>70</td>\n",
              "      <td>6</td>\n",
              "      <td>0</td>\n",
              "      <td>0</td>\n",
              "      <td>0</td>\n",
              "      <td>1</td>\n",
              "      <td>0</td>\n",
              "      <td>2</td>\n",
              "      <td>41</td>\n",
              "      <td>0</td>\n",
              "      <td>2</td>\n",
              "      <td>18</td>\n",
              "      <td>0</td>\n",
              "      <td>0</td>\n",
              "      <td>Race</td>\n",
              "    </tr>\n",
              "    <tr>\n",
              "      <th>2</th>\n",
              "      <td>08/06/2015</td>\n",
              "      <td>Other</td>\n",
              "      <td>Other</td>\n",
              "      <td>OTHER</td>\n",
              "      <td>2005</td>\n",
              "      <td>23</td>\n",
              "      <td>0</td>\n",
              "      <td>0</td>\n",
              "      <td>0</td>\n",
              "      <td>0</td>\n",
              "      <td>0</td>\n",
              "      <td>0</td>\n",
              "      <td>0</td>\n",
              "      <td>21</td>\n",
              "      <td>0</td>\n",
              "      <td>0</td>\n",
              "      <td>2</td>\n",
              "      <td>0</td>\n",
              "      <td>0</td>\n",
              "      <td>Race</td>\n",
              "    </tr>\n",
              "    <tr>\n",
              "      <th>3</th>\n",
              "      <td>08/06/2015</td>\n",
              "      <td>Other</td>\n",
              "      <td>Other</td>\n",
              "      <td>WHITE</td>\n",
              "      <td>2005</td>\n",
              "      <td>61</td>\n",
              "      <td>2</td>\n",
              "      <td>5</td>\n",
              "      <td>0</td>\n",
              "      <td>0</td>\n",
              "      <td>1</td>\n",
              "      <td>0</td>\n",
              "      <td>4</td>\n",
              "      <td>40</td>\n",
              "      <td>0</td>\n",
              "      <td>1</td>\n",
              "      <td>8</td>\n",
              "      <td>0</td>\n",
              "      <td>0</td>\n",
              "      <td>Race</td>\n",
              "    </tr>\n",
              "    <tr>\n",
              "      <th>4</th>\n",
              "      <td>08/06/2015</td>\n",
              "      <td>Region 1</td>\n",
              "      <td>Bridgeport Office</td>\n",
              "      <td>BLACK</td>\n",
              "      <td>2005</td>\n",
              "      <td>126</td>\n",
              "      <td>64</td>\n",
              "      <td>12</td>\n",
              "      <td>1</td>\n",
              "      <td>3</td>\n",
              "      <td>19</td>\n",
              "      <td>11</td>\n",
              "      <td>2</td>\n",
              "      <td>10</td>\n",
              "      <td>2</td>\n",
              "      <td>0</td>\n",
              "      <td>1</td>\n",
              "      <td>1</td>\n",
              "      <td>0</td>\n",
              "      <td>Race</td>\n",
              "    </tr>\n",
              "    <tr>\n",
              "      <th>...</th>\n",
              "      <td>...</td>\n",
              "      <td>...</td>\n",
              "      <td>...</td>\n",
              "      <td>...</td>\n",
              "      <td>...</td>\n",
              "      <td>...</td>\n",
              "      <td>...</td>\n",
              "      <td>...</td>\n",
              "      <td>...</td>\n",
              "      <td>...</td>\n",
              "      <td>...</td>\n",
              "      <td>...</td>\n",
              "      <td>...</td>\n",
              "      <td>...</td>\n",
              "      <td>...</td>\n",
              "      <td>...</td>\n",
              "      <td>...</td>\n",
              "      <td>...</td>\n",
              "      <td>...</td>\n",
              "      <td>...</td>\n",
              "    </tr>\n",
              "    <tr>\n",
              "      <th>95</th>\n",
              "      <td>08/06/2015</td>\n",
              "      <td>Region 3</td>\n",
              "      <td>Norwich Office</td>\n",
              "      <td>WHITE</td>\n",
              "      <td>2006</td>\n",
              "      <td>141</td>\n",
              "      <td>59</td>\n",
              "      <td>28</td>\n",
              "      <td>2</td>\n",
              "      <td>2</td>\n",
              "      <td>17</td>\n",
              "      <td>5</td>\n",
              "      <td>2</td>\n",
              "      <td>12</td>\n",
              "      <td>1</td>\n",
              "      <td>2</td>\n",
              "      <td>1</td>\n",
              "      <td>9</td>\n",
              "      <td>1</td>\n",
              "      <td>Race</td>\n",
              "    </tr>\n",
              "    <tr>\n",
              "      <th>96</th>\n",
              "      <td>08/06/2015</td>\n",
              "      <td>Region 3</td>\n",
              "      <td>Willimantic Office</td>\n",
              "      <td>BLACK</td>\n",
              "      <td>2006</td>\n",
              "      <td>7</td>\n",
              "      <td>3</td>\n",
              "      <td>1</td>\n",
              "      <td>2</td>\n",
              "      <td>0</td>\n",
              "      <td>1</td>\n",
              "      <td>0</td>\n",
              "      <td>0</td>\n",
              "      <td>0</td>\n",
              "      <td>0</td>\n",
              "      <td>0</td>\n",
              "      <td>0</td>\n",
              "      <td>0</td>\n",
              "      <td>0</td>\n",
              "      <td>Race</td>\n",
              "    </tr>\n",
              "    <tr>\n",
              "      <th>97</th>\n",
              "      <td>08/06/2015</td>\n",
              "      <td>Region 3</td>\n",
              "      <td>Willimantic Office</td>\n",
              "      <td>HISPANIC</td>\n",
              "      <td>2006</td>\n",
              "      <td>34</td>\n",
              "      <td>19</td>\n",
              "      <td>3</td>\n",
              "      <td>1</td>\n",
              "      <td>0</td>\n",
              "      <td>6</td>\n",
              "      <td>4</td>\n",
              "      <td>0</td>\n",
              "      <td>1</td>\n",
              "      <td>0</td>\n",
              "      <td>0</td>\n",
              "      <td>0</td>\n",
              "      <td>0</td>\n",
              "      <td>0</td>\n",
              "      <td>Race</td>\n",
              "    </tr>\n",
              "    <tr>\n",
              "      <th>98</th>\n",
              "      <td>08/06/2015</td>\n",
              "      <td>Region 3</td>\n",
              "      <td>Willimantic Office</td>\n",
              "      <td>OTHER</td>\n",
              "      <td>2006</td>\n",
              "      <td>12</td>\n",
              "      <td>4</td>\n",
              "      <td>5</td>\n",
              "      <td>0</td>\n",
              "      <td>0</td>\n",
              "      <td>1</td>\n",
              "      <td>1</td>\n",
              "      <td>0</td>\n",
              "      <td>1</td>\n",
              "      <td>0</td>\n",
              "      <td>0</td>\n",
              "      <td>0</td>\n",
              "      <td>0</td>\n",
              "      <td>0</td>\n",
              "      <td>Race</td>\n",
              "    </tr>\n",
              "    <tr>\n",
              "      <th>99</th>\n",
              "      <td>08/06/2015</td>\n",
              "      <td>Region 3</td>\n",
              "      <td>Willimantic Office</td>\n",
              "      <td>WHITE</td>\n",
              "      <td>2006</td>\n",
              "      <td>118</td>\n",
              "      <td>51</td>\n",
              "      <td>13</td>\n",
              "      <td>10</td>\n",
              "      <td>1</td>\n",
              "      <td>24</td>\n",
              "      <td>4</td>\n",
              "      <td>1</td>\n",
              "      <td>12</td>\n",
              "      <td>1</td>\n",
              "      <td>1</td>\n",
              "      <td>0</td>\n",
              "      <td>0</td>\n",
              "      <td>0</td>\n",
              "      <td>Race</td>\n",
              "    </tr>\n",
              "  </tbody>\n",
              "</table>\n",
              "<p>100 rows × 20 columns</p>\n",
              "</div>"
            ],
            "text/plain": [
              "    Data_as_of DCF Region  ... INDEPENDENT_LIVING Demographic_Type\n",
              "0   08/06/2015      Other  ...                  0             Race\n",
              "1   08/06/2015      Other  ...                  0             Race\n",
              "2   08/06/2015      Other  ...                  0             Race\n",
              "3   08/06/2015      Other  ...                  0             Race\n",
              "4   08/06/2015   Region 1  ...                  0             Race\n",
              "..         ...        ...  ...                ...              ...\n",
              "95  08/06/2015   Region 3  ...                  1             Race\n",
              "96  08/06/2015   Region 3  ...                  0             Race\n",
              "97  08/06/2015   Region 3  ...                  0             Race\n",
              "98  08/06/2015   Region 3  ...                  0             Race\n",
              "99  08/06/2015   Region 3  ...                  0             Race\n",
              "\n",
              "[100 rows x 20 columns]"
            ]
          },
          "metadata": {
            "tags": []
          },
          "execution_count": 130
        }
      ]
    },
    {
      "cell_type": "code",
      "metadata": {
        "id": "l5hRMgTOXrY-",
        "colab_type": "code",
        "outputId": "8e8f6245-883a-49e3-c5b4-496f4426d7ea",
        "colab": {
          "base_uri": "https://localhost:8080/",
          "height": 34
        }
      },
      "source": [
        "# 966 rows, each showing number of children in each placement by ethnicity, year, and office\n",
        "df_original.shape"
      ],
      "execution_count": 131,
      "outputs": [
        {
          "output_type": "execute_result",
          "data": {
            "text/plain": [
              "(966, 20)"
            ]
          },
          "metadata": {
            "tags": []
          },
          "execution_count": 131
        }
      ]
    },
    {
      "cell_type": "code",
      "metadata": {
        "id": "qYa10EDpXy0v",
        "colab_type": "code",
        "outputId": "ce0bbd84-be0b-4ccd-ce86-09a3682537c0",
        "colab": {
          "base_uri": "https://localhost:8080/",
          "height": 374
        }
      },
      "source": [
        "# Each row has an integer for placements in one month by ethnicity, office, and region\n",
        "df_original.dtypes"
      ],
      "execution_count": 132,
      "outputs": [
        {
          "output_type": "execute_result",
          "data": {
            "text/plain": [
              "Data_as_of                 object\n",
              "DCF Region                 object\n",
              "DCF Office                 object\n",
              "Demographic                object\n",
              "SFY                         int64\n",
              "TOTAL_ENTRY                 int64\n",
              "FOSTER_CARE                 int64\n",
              "RELATIVE_CARE               int64\n",
              "SPECIAL_STUDY               int64\n",
              "THERAPEUTIC_FOSTER_CARE     int64\n",
              "PDC_SAFE_HOME               int64\n",
              "SHELTER                     int64\n",
              "GROUP_HOME                  int64\n",
              "RESIDENTIAL                 int64\n",
              "DCF_HIGHMEADOWS             int64\n",
              "DCF_SOLNIT                  int64\n",
              "DCF_CJTS                    int64\n",
              "HOSPITAL                    int64\n",
              "INDEPENDENT_LIVING          int64\n",
              "Demographic_Type           object\n",
              "dtype: object"
            ]
          },
          "metadata": {
            "tags": []
          },
          "execution_count": 132
        }
      ]
    },
    {
      "cell_type": "code",
      "metadata": {
        "id": "Knga2kufcUgn",
        "colab_type": "code",
        "colab": {
          "base_uri": "https://localhost:8080/",
          "height": 34
        },
        "outputId": "fbac0c5f-b567-4af4-a26d-cb8ef01207dd"
      },
      "source": [
        "# There are 22 DCF offices\n",
        "df_original['DCF Office'].value_counts().shape"
      ],
      "execution_count": 133,
      "outputs": [
        {
          "output_type": "execute_result",
          "data": {
            "text/plain": [
              "(22,)"
            ]
          },
          "metadata": {
            "tags": []
          },
          "execution_count": 133
        }
      ]
    },
    {
      "cell_type": "code",
      "metadata": {
        "id": "xl82uOgMbyLr",
        "colab_type": "code",
        "colab": {
          "base_uri": "https://localhost:8080/",
          "height": 272
        },
        "outputId": "5a8f42ad-ea51-4162-b83d-7bef9fad7d7d"
      },
      "source": [
        "# Data cover 14 fiscal years\n",
        "df_original['SFY'].value_counts()"
      ],
      "execution_count": 134,
      "outputs": [
        {
          "output_type": "execute_result",
          "data": {
            "text/plain": [
              "2017    128\n",
              "2012     72\n",
              "2011     72\n",
              "2013     67\n",
              "2014     65\n",
              "2010     64\n",
              "2009     64\n",
              "2007     64\n",
              "2006     64\n",
              "2005     64\n",
              "2008     63\n",
              "2016     60\n",
              "2015     60\n",
              "2018     59\n",
              "Name: SFY, dtype: int64"
            ]
          },
          "metadata": {
            "tags": []
          },
          "execution_count": 134
        }
      ]
    },
    {
      "cell_type": "code",
      "metadata": {
        "id": "5JcQSsN0GDXb",
        "colab_type": "code",
        "outputId": "238d2b9e-64a6-4f30-c08d-cf7fe8ea3067",
        "colab": {
          "base_uri": "https://localhost:8080/",
          "height": 408
        }
      },
      "source": [
        "# There are not always 4 entries per year for each office\n",
        "# 22 offices * 4 ethnicities * 14 years would = 1,232\n",
        "df_original['DCF Office'].value_counts()"
      ],
      "execution_count": 135,
      "outputs": [
        {
          "output_type": "execute_result",
          "data": {
            "text/plain": [
              "Manchester Office       60\n",
              "Milford Office          60\n",
              "Norwich Office          60\n",
              "New Britain Office      60\n",
              "Hartford Office         60\n",
              "Meriden Office          60\n",
              "Willimantic Office      60\n",
              "New Haven Office        60\n",
              "Bridgeport Office       60\n",
              "Norwalk Office          60\n",
              "Waterbury Office        60\n",
              "Danbury Office          59\n",
              "Middletown Office       59\n",
              "Torrington Office       55\n",
              "Stamford Office         37\n",
              "Unassigned_Office       32\n",
              "Other                   24\n",
              "Gen'l Administration    22\n",
              "Hotline                  9\n",
              "Aftercare                6\n",
              "Spec Invest. Unit        2\n",
              "Treatment Services       1\n",
              "Name: DCF Office, dtype: int64"
            ]
          },
          "metadata": {
            "tags": []
          },
          "execution_count": 135
        }
      ]
    },
    {
      "cell_type": "code",
      "metadata": {
        "id": "O3ekhSK8X4_n",
        "colab_type": "code",
        "outputId": "803b0a40-306f-41d9-cd89-1422c6399a8d",
        "colab": {
          "base_uri": "https://localhost:8080/",
          "height": 374
        }
      },
      "source": [
        "# There are no null values to be cleaned up\n",
        "df_original.isnull().sum()"
      ],
      "execution_count": 136,
      "outputs": [
        {
          "output_type": "execute_result",
          "data": {
            "text/plain": [
              "Data_as_of                 0\n",
              "DCF Region                 0\n",
              "DCF Office                 0\n",
              "Demographic                0\n",
              "SFY                        0\n",
              "TOTAL_ENTRY                0\n",
              "FOSTER_CARE                0\n",
              "RELATIVE_CARE              0\n",
              "SPECIAL_STUDY              0\n",
              "THERAPEUTIC_FOSTER_CARE    0\n",
              "PDC_SAFE_HOME              0\n",
              "SHELTER                    0\n",
              "GROUP_HOME                 0\n",
              "RESIDENTIAL                0\n",
              "DCF_HIGHMEADOWS            0\n",
              "DCF_SOLNIT                 0\n",
              "DCF_CJTS                   0\n",
              "HOSPITAL                   0\n",
              "INDEPENDENT_LIVING         0\n",
              "Demographic_Type           0\n",
              "dtype: int64"
            ]
          },
          "metadata": {
            "tags": []
          },
          "execution_count": 136
        }
      ]
    },
    {
      "cell_type": "code",
      "metadata": {
        "id": "xoGabS7sYGdL",
        "colab_type": "code",
        "outputId": "f641d2a7-b22e-415c-a6e0-1461d70ecf68",
        "colab": {
          "base_uri": "https://localhost:8080/",
          "height": 317
        }
      },
      "source": [
        "df_original.describe(include=[np.number])"
      ],
      "execution_count": 137,
      "outputs": [
        {
          "output_type": "execute_result",
          "data": {
            "text/html": [
              "<div>\n",
              "<style scoped>\n",
              "    .dataframe tbody tr th:only-of-type {\n",
              "        vertical-align: middle;\n",
              "    }\n",
              "\n",
              "    .dataframe tbody tr th {\n",
              "        vertical-align: top;\n",
              "    }\n",
              "\n",
              "    .dataframe thead th {\n",
              "        text-align: right;\n",
              "    }\n",
              "</style>\n",
              "<table border=\"1\" class=\"dataframe\">\n",
              "  <thead>\n",
              "    <tr style=\"text-align: right;\">\n",
              "      <th></th>\n",
              "      <th>SFY</th>\n",
              "      <th>TOTAL_ENTRY</th>\n",
              "      <th>FOSTER_CARE</th>\n",
              "      <th>RELATIVE_CARE</th>\n",
              "      <th>SPECIAL_STUDY</th>\n",
              "      <th>THERAPEUTIC_FOSTER_CARE</th>\n",
              "      <th>PDC_SAFE_HOME</th>\n",
              "      <th>SHELTER</th>\n",
              "      <th>GROUP_HOME</th>\n",
              "      <th>RESIDENTIAL</th>\n",
              "      <th>DCF_HIGHMEADOWS</th>\n",
              "      <th>DCF_SOLNIT</th>\n",
              "      <th>DCF_CJTS</th>\n",
              "      <th>HOSPITAL</th>\n",
              "      <th>INDEPENDENT_LIVING</th>\n",
              "    </tr>\n",
              "  </thead>\n",
              "  <tbody>\n",
              "    <tr>\n",
              "      <th>count</th>\n",
              "      <td>966.000000</td>\n",
              "      <td>966.000000</td>\n",
              "      <td>966.000000</td>\n",
              "      <td>966.000000</td>\n",
              "      <td>966.000000</td>\n",
              "      <td>966.000000</td>\n",
              "      <td>966.000000</td>\n",
              "      <td>966.000000</td>\n",
              "      <td>966.000000</td>\n",
              "      <td>966.000000</td>\n",
              "      <td>966.000000</td>\n",
              "      <td>966.000000</td>\n",
              "      <td>966.000000</td>\n",
              "      <td>966.000000</td>\n",
              "      <td>966.000000</td>\n",
              "    </tr>\n",
              "    <tr>\n",
              "      <th>mean</th>\n",
              "      <td>2011.808489</td>\n",
              "      <td>38.890269</td>\n",
              "      <td>16.948240</td>\n",
              "      <td>8.331263</td>\n",
              "      <td>1.387164</td>\n",
              "      <td>1.041408</td>\n",
              "      <td>3.057971</td>\n",
              "      <td>1.607660</td>\n",
              "      <td>0.760870</td>\n",
              "      <td>2.783644</td>\n",
              "      <td>0.072464</td>\n",
              "      <td>0.386128</td>\n",
              "      <td>1.075569</td>\n",
              "      <td>1.024845</td>\n",
              "      <td>0.413043</td>\n",
              "    </tr>\n",
              "    <tr>\n",
              "      <th>std</th>\n",
              "      <td>4.080482</td>\n",
              "      <td>39.466052</td>\n",
              "      <td>19.235207</td>\n",
              "      <td>10.122565</td>\n",
              "      <td>2.163570</td>\n",
              "      <td>1.959260</td>\n",
              "      <td>5.431891</td>\n",
              "      <td>2.361677</td>\n",
              "      <td>1.353468</td>\n",
              "      <td>4.864568</td>\n",
              "      <td>0.316928</td>\n",
              "      <td>0.770555</td>\n",
              "      <td>3.020394</td>\n",
              "      <td>1.920547</td>\n",
              "      <td>0.931985</td>\n",
              "    </tr>\n",
              "    <tr>\n",
              "      <th>min</th>\n",
              "      <td>2005.000000</td>\n",
              "      <td>1.000000</td>\n",
              "      <td>0.000000</td>\n",
              "      <td>0.000000</td>\n",
              "      <td>0.000000</td>\n",
              "      <td>0.000000</td>\n",
              "      <td>0.000000</td>\n",
              "      <td>0.000000</td>\n",
              "      <td>0.000000</td>\n",
              "      <td>0.000000</td>\n",
              "      <td>0.000000</td>\n",
              "      <td>0.000000</td>\n",
              "      <td>0.000000</td>\n",
              "      <td>0.000000</td>\n",
              "      <td>0.000000</td>\n",
              "    </tr>\n",
              "    <tr>\n",
              "      <th>25%</th>\n",
              "      <td>2008.000000</td>\n",
              "      <td>10.000000</td>\n",
              "      <td>4.000000</td>\n",
              "      <td>1.000000</td>\n",
              "      <td>0.000000</td>\n",
              "      <td>0.000000</td>\n",
              "      <td>0.000000</td>\n",
              "      <td>0.000000</td>\n",
              "      <td>0.000000</td>\n",
              "      <td>0.000000</td>\n",
              "      <td>0.000000</td>\n",
              "      <td>0.000000</td>\n",
              "      <td>0.000000</td>\n",
              "      <td>0.000000</td>\n",
              "      <td>0.000000</td>\n",
              "    </tr>\n",
              "    <tr>\n",
              "      <th>50%</th>\n",
              "      <td>2012.000000</td>\n",
              "      <td>25.000000</td>\n",
              "      <td>10.000000</td>\n",
              "      <td>5.000000</td>\n",
              "      <td>0.000000</td>\n",
              "      <td>0.000000</td>\n",
              "      <td>1.000000</td>\n",
              "      <td>1.000000</td>\n",
              "      <td>0.000000</td>\n",
              "      <td>1.000000</td>\n",
              "      <td>0.000000</td>\n",
              "      <td>0.000000</td>\n",
              "      <td>0.000000</td>\n",
              "      <td>0.000000</td>\n",
              "      <td>0.000000</td>\n",
              "    </tr>\n",
              "    <tr>\n",
              "      <th>75%</th>\n",
              "      <td>2016.000000</td>\n",
              "      <td>55.000000</td>\n",
              "      <td>23.000000</td>\n",
              "      <td>12.000000</td>\n",
              "      <td>2.000000</td>\n",
              "      <td>1.000000</td>\n",
              "      <td>3.000000</td>\n",
              "      <td>2.000000</td>\n",
              "      <td>1.000000</td>\n",
              "      <td>3.000000</td>\n",
              "      <td>0.000000</td>\n",
              "      <td>1.000000</td>\n",
              "      <td>1.000000</td>\n",
              "      <td>1.000000</td>\n",
              "      <td>0.000000</td>\n",
              "    </tr>\n",
              "    <tr>\n",
              "      <th>max</th>\n",
              "      <td>2018.000000</td>\n",
              "      <td>220.000000</td>\n",
              "      <td>129.000000</td>\n",
              "      <td>57.000000</td>\n",
              "      <td>14.000000</td>\n",
              "      <td>18.000000</td>\n",
              "      <td>40.000000</td>\n",
              "      <td>14.000000</td>\n",
              "      <td>10.000000</td>\n",
              "      <td>45.000000</td>\n",
              "      <td>3.000000</td>\n",
              "      <td>6.000000</td>\n",
              "      <td>34.000000</td>\n",
              "      <td>18.000000</td>\n",
              "      <td>9.000000</td>\n",
              "    </tr>\n",
              "  </tbody>\n",
              "</table>\n",
              "</div>"
            ],
            "text/plain": [
              "               SFY  TOTAL_ENTRY  ...    HOSPITAL  INDEPENDENT_LIVING\n",
              "count   966.000000   966.000000  ...  966.000000          966.000000\n",
              "mean   2011.808489    38.890269  ...    1.024845            0.413043\n",
              "std       4.080482    39.466052  ...    1.920547            0.931985\n",
              "min    2005.000000     1.000000  ...    0.000000            0.000000\n",
              "25%    2008.000000    10.000000  ...    0.000000            0.000000\n",
              "50%    2012.000000    25.000000  ...    0.000000            0.000000\n",
              "75%    2016.000000    55.000000  ...    1.000000            0.000000\n",
              "max    2018.000000   220.000000  ...   18.000000            9.000000\n",
              "\n",
              "[8 rows x 15 columns]"
            ]
          },
          "metadata": {
            "tags": []
          },
          "execution_count": 137
        }
      ]
    },
    {
      "cell_type": "code",
      "metadata": {
        "id": "NVLawWU7YHAg",
        "colab_type": "code",
        "outputId": "856d19e9-99ed-4592-dd25-ea8a9bc73455",
        "colab": {
          "base_uri": "https://localhost:8080/",
          "height": 173
        }
      },
      "source": [
        "df_original.describe(exclude=[np.number])"
      ],
      "execution_count": 138,
      "outputs": [
        {
          "output_type": "execute_result",
          "data": {
            "text/html": [
              "<div>\n",
              "<style scoped>\n",
              "    .dataframe tbody tr th:only-of-type {\n",
              "        vertical-align: middle;\n",
              "    }\n",
              "\n",
              "    .dataframe tbody tr th {\n",
              "        vertical-align: top;\n",
              "    }\n",
              "\n",
              "    .dataframe thead th {\n",
              "        text-align: right;\n",
              "    }\n",
              "</style>\n",
              "<table border=\"1\" class=\"dataframe\">\n",
              "  <thead>\n",
              "    <tr style=\"text-align: right;\">\n",
              "      <th></th>\n",
              "      <th>Data_as_of</th>\n",
              "      <th>DCF Region</th>\n",
              "      <th>DCF Office</th>\n",
              "      <th>Demographic</th>\n",
              "      <th>Demographic_Type</th>\n",
              "    </tr>\n",
              "  </thead>\n",
              "  <tbody>\n",
              "    <tr>\n",
              "      <th>count</th>\n",
              "      <td>966</td>\n",
              "      <td>966</td>\n",
              "      <td>966</td>\n",
              "      <td>966</td>\n",
              "      <td>966</td>\n",
              "    </tr>\n",
              "    <tr>\n",
              "      <th>unique</th>\n",
              "      <td>3</td>\n",
              "      <td>8</td>\n",
              "      <td>22</td>\n",
              "      <td>8</td>\n",
              "      <td>1</td>\n",
              "    </tr>\n",
              "    <tr>\n",
              "      <th>top</th>\n",
              "      <td>09/19/2017</td>\n",
              "      <td>Region 3</td>\n",
              "      <td>Manchester Office</td>\n",
              "      <td>Non-Hispanic White</td>\n",
              "      <td>Race</td>\n",
              "    </tr>\n",
              "    <tr>\n",
              "      <th>freq</th>\n",
              "      <td>524</td>\n",
              "      <td>179</td>\n",
              "      <td>60</td>\n",
              "      <td>150</td>\n",
              "      <td>966</td>\n",
              "    </tr>\n",
              "  </tbody>\n",
              "</table>\n",
              "</div>"
            ],
            "text/plain": [
              "        Data_as_of DCF Region  ...         Demographic Demographic_Type\n",
              "count          966        966  ...                 966              966\n",
              "unique           3          8  ...                   8                1\n",
              "top     09/19/2017   Region 3  ...  Non-Hispanic White             Race\n",
              "freq           524        179  ...                 150              966\n",
              "\n",
              "[4 rows x 5 columns]"
            ]
          },
          "metadata": {
            "tags": []
          },
          "execution_count": 138
        }
      ]
    },
    {
      "cell_type": "code",
      "metadata": {
        "id": "-dcJkH61gvKl",
        "colab_type": "code",
        "outputId": "57d10bd1-ca57-4805-a82f-96ea59c729f3",
        "colab": {
          "base_uri": "https://localhost:8080/",
          "height": 51
        }
      },
      "source": [
        "# All the values in Demographic_Type are 'Race', so this can be dropped\n",
        "df_original.Demographic_Type.value_counts()"
      ],
      "execution_count": 139,
      "outputs": [
        {
          "output_type": "execute_result",
          "data": {
            "text/plain": [
              "Race    966\n",
              "Name: Demographic_Type, dtype: int64"
            ]
          },
          "metadata": {
            "tags": []
          },
          "execution_count": 139
        }
      ]
    },
    {
      "cell_type": "code",
      "metadata": {
        "id": "OXMmYqE2L8nE",
        "colab_type": "code",
        "outputId": "b57f356d-6f8e-4b10-f344-b14c1772ffb9",
        "colab": {
          "base_uri": "https://localhost:8080/",
          "height": 170
        }
      },
      "source": [
        "# There are two different ways of coding each ethnicity. Why is this?\n",
        "# If they are duplicates, I can merge them; otherwise, it may be bad data\n",
        "df_original['Demographic'].value_counts()"
      ],
      "execution_count": 140,
      "outputs": [
        {
          "output_type": "execute_result",
          "data": {
            "text/plain": [
              "Non-Hispanic White    150\n",
              "Hispanic              150\n",
              "Non-Hispanic Black    146\n",
              "Non-Hispanic Other    137\n",
              "OTHER                  96\n",
              "HISPANIC               96\n",
              "WHITE                  96\n",
              "BLACK                  95\n",
              "Name: Demographic, dtype: int64"
            ]
          },
          "metadata": {
            "tags": []
          },
          "execution_count": 140
        }
      ]
    },
    {
      "cell_type": "code",
      "metadata": {
        "id": "PW7R1HY7GSxH",
        "colab_type": "code",
        "outputId": "97b75530-d0a1-4076-cd28-6a46ee02fb8a",
        "colab": {
          "base_uri": "https://localhost:8080/",
          "height": 518
        }
      },
      "source": [
        "# Digging into the two different ways of coding ethnicity\n",
        "df_original[df_original['DCF Office']=='Hotline']"
      ],
      "execution_count": 141,
      "outputs": [
        {
          "output_type": "execute_result",
          "data": {
            "text/html": [
              "<div>\n",
              "<style scoped>\n",
              "    .dataframe tbody tr th:only-of-type {\n",
              "        vertical-align: middle;\n",
              "    }\n",
              "\n",
              "    .dataframe tbody tr th {\n",
              "        vertical-align: top;\n",
              "    }\n",
              "\n",
              "    .dataframe thead th {\n",
              "        text-align: right;\n",
              "    }\n",
              "</style>\n",
              "<table border=\"1\" class=\"dataframe\">\n",
              "  <thead>\n",
              "    <tr style=\"text-align: right;\">\n",
              "      <th></th>\n",
              "      <th>Data_as_of</th>\n",
              "      <th>DCF Region</th>\n",
              "      <th>DCF Office</th>\n",
              "      <th>Demographic</th>\n",
              "      <th>SFY</th>\n",
              "      <th>TOTAL_ENTRY</th>\n",
              "      <th>FOSTER_CARE</th>\n",
              "      <th>RELATIVE_CARE</th>\n",
              "      <th>SPECIAL_STUDY</th>\n",
              "      <th>THERAPEUTIC_FOSTER_CARE</th>\n",
              "      <th>PDC_SAFE_HOME</th>\n",
              "      <th>SHELTER</th>\n",
              "      <th>GROUP_HOME</th>\n",
              "      <th>RESIDENTIAL</th>\n",
              "      <th>DCF_HIGHMEADOWS</th>\n",
              "      <th>DCF_SOLNIT</th>\n",
              "      <th>DCF_CJTS</th>\n",
              "      <th>HOSPITAL</th>\n",
              "      <th>INDEPENDENT_LIVING</th>\n",
              "      <th>Demographic_Type</th>\n",
              "    </tr>\n",
              "  </thead>\n",
              "  <tbody>\n",
              "    <tr>\n",
              "      <th>461</th>\n",
              "      <td>09/19/2017</td>\n",
              "      <td>Region 0</td>\n",
              "      <td>Hotline</td>\n",
              "      <td>Hispanic</td>\n",
              "      <td>2012</td>\n",
              "      <td>4</td>\n",
              "      <td>1</td>\n",
              "      <td>3</td>\n",
              "      <td>0</td>\n",
              "      <td>0</td>\n",
              "      <td>0</td>\n",
              "      <td>0</td>\n",
              "      <td>0</td>\n",
              "      <td>0</td>\n",
              "      <td>0</td>\n",
              "      <td>0</td>\n",
              "      <td>0</td>\n",
              "      <td>0</td>\n",
              "      <td>0</td>\n",
              "      <td>Race</td>\n",
              "    </tr>\n",
              "    <tr>\n",
              "      <th>462</th>\n",
              "      <td>09/19/2017</td>\n",
              "      <td>Region 0</td>\n",
              "      <td>Hotline</td>\n",
              "      <td>Non-Hispanic Black</td>\n",
              "      <td>2012</td>\n",
              "      <td>3</td>\n",
              "      <td>0</td>\n",
              "      <td>0</td>\n",
              "      <td>0</td>\n",
              "      <td>0</td>\n",
              "      <td>3</td>\n",
              "      <td>0</td>\n",
              "      <td>0</td>\n",
              "      <td>0</td>\n",
              "      <td>0</td>\n",
              "      <td>0</td>\n",
              "      <td>0</td>\n",
              "      <td>0</td>\n",
              "      <td>0</td>\n",
              "      <td>Race</td>\n",
              "    </tr>\n",
              "    <tr>\n",
              "      <th>597</th>\n",
              "      <td>09/19/2017</td>\n",
              "      <td>Region 0</td>\n",
              "      <td>Hotline</td>\n",
              "      <td>Non-Hispanic Other</td>\n",
              "      <td>2014</td>\n",
              "      <td>2</td>\n",
              "      <td>2</td>\n",
              "      <td>0</td>\n",
              "      <td>0</td>\n",
              "      <td>0</td>\n",
              "      <td>0</td>\n",
              "      <td>0</td>\n",
              "      <td>0</td>\n",
              "      <td>0</td>\n",
              "      <td>0</td>\n",
              "      <td>0</td>\n",
              "      <td>0</td>\n",
              "      <td>0</td>\n",
              "      <td>0</td>\n",
              "      <td>Race</td>\n",
              "    </tr>\n",
              "    <tr>\n",
              "      <th>659</th>\n",
              "      <td>09/19/2017</td>\n",
              "      <td>Region 0</td>\n",
              "      <td>Hotline</td>\n",
              "      <td>Hispanic</td>\n",
              "      <td>2015</td>\n",
              "      <td>1</td>\n",
              "      <td>0</td>\n",
              "      <td>1</td>\n",
              "      <td>0</td>\n",
              "      <td>0</td>\n",
              "      <td>0</td>\n",
              "      <td>0</td>\n",
              "      <td>0</td>\n",
              "      <td>0</td>\n",
              "      <td>0</td>\n",
              "      <td>0</td>\n",
              "      <td>0</td>\n",
              "      <td>0</td>\n",
              "      <td>0</td>\n",
              "      <td>Race</td>\n",
              "    </tr>\n",
              "    <tr>\n",
              "      <th>660</th>\n",
              "      <td>09/19/2017</td>\n",
              "      <td>Region 0</td>\n",
              "      <td>Hotline</td>\n",
              "      <td>Non-Hispanic Black</td>\n",
              "      <td>2015</td>\n",
              "      <td>2</td>\n",
              "      <td>0</td>\n",
              "      <td>1</td>\n",
              "      <td>0</td>\n",
              "      <td>0</td>\n",
              "      <td>0</td>\n",
              "      <td>1</td>\n",
              "      <td>0</td>\n",
              "      <td>0</td>\n",
              "      <td>0</td>\n",
              "      <td>0</td>\n",
              "      <td>0</td>\n",
              "      <td>0</td>\n",
              "      <td>0</td>\n",
              "      <td>Race</td>\n",
              "    </tr>\n",
              "    <tr>\n",
              "      <th>834</th>\n",
              "      <td>09/19/2017</td>\n",
              "      <td>Region 0</td>\n",
              "      <td>Hotline</td>\n",
              "      <td>Non-Hispanic White</td>\n",
              "      <td>2017</td>\n",
              "      <td>4</td>\n",
              "      <td>3</td>\n",
              "      <td>1</td>\n",
              "      <td>0</td>\n",
              "      <td>0</td>\n",
              "      <td>0</td>\n",
              "      <td>0</td>\n",
              "      <td>0</td>\n",
              "      <td>0</td>\n",
              "      <td>0</td>\n",
              "      <td>0</td>\n",
              "      <td>0</td>\n",
              "      <td>0</td>\n",
              "      <td>0</td>\n",
              "      <td>Race</td>\n",
              "    </tr>\n",
              "    <tr>\n",
              "      <th>837</th>\n",
              "      <td>09/19/2017</td>\n",
              "      <td>Region 0</td>\n",
              "      <td>Hotline</td>\n",
              "      <td>Hispanic</td>\n",
              "      <td>2017</td>\n",
              "      <td>1</td>\n",
              "      <td>1</td>\n",
              "      <td>0</td>\n",
              "      <td>0</td>\n",
              "      <td>0</td>\n",
              "      <td>0</td>\n",
              "      <td>0</td>\n",
              "      <td>0</td>\n",
              "      <td>0</td>\n",
              "      <td>0</td>\n",
              "      <td>0</td>\n",
              "      <td>0</td>\n",
              "      <td>0</td>\n",
              "      <td>0</td>\n",
              "      <td>Race</td>\n",
              "    </tr>\n",
              "    <tr>\n",
              "      <th>898</th>\n",
              "      <td>09/19/2017</td>\n",
              "      <td>Region 0</td>\n",
              "      <td>Hotline</td>\n",
              "      <td>Non-Hispanic White</td>\n",
              "      <td>2017</td>\n",
              "      <td>4</td>\n",
              "      <td>3</td>\n",
              "      <td>1</td>\n",
              "      <td>0</td>\n",
              "      <td>0</td>\n",
              "      <td>0</td>\n",
              "      <td>0</td>\n",
              "      <td>0</td>\n",
              "      <td>0</td>\n",
              "      <td>0</td>\n",
              "      <td>0</td>\n",
              "      <td>0</td>\n",
              "      <td>0</td>\n",
              "      <td>0</td>\n",
              "      <td>Race</td>\n",
              "    </tr>\n",
              "    <tr>\n",
              "      <th>901</th>\n",
              "      <td>09/19/2017</td>\n",
              "      <td>Region 0</td>\n",
              "      <td>Hotline</td>\n",
              "      <td>Hispanic</td>\n",
              "      <td>2017</td>\n",
              "      <td>1</td>\n",
              "      <td>1</td>\n",
              "      <td>0</td>\n",
              "      <td>0</td>\n",
              "      <td>0</td>\n",
              "      <td>0</td>\n",
              "      <td>0</td>\n",
              "      <td>0</td>\n",
              "      <td>0</td>\n",
              "      <td>0</td>\n",
              "      <td>0</td>\n",
              "      <td>0</td>\n",
              "      <td>0</td>\n",
              "      <td>0</td>\n",
              "      <td>Race</td>\n",
              "    </tr>\n",
              "  </tbody>\n",
              "</table>\n",
              "</div>"
            ],
            "text/plain": [
              "     Data_as_of DCF Region  ... INDEPENDENT_LIVING Demographic_Type\n",
              "461  09/19/2017   Region 0  ...                  0             Race\n",
              "462  09/19/2017   Region 0  ...                  0             Race\n",
              "597  09/19/2017   Region 0  ...                  0             Race\n",
              "659  09/19/2017   Region 0  ...                  0             Race\n",
              "660  09/19/2017   Region 0  ...                  0             Race\n",
              "834  09/19/2017   Region 0  ...                  0             Race\n",
              "837  09/19/2017   Region 0  ...                  0             Race\n",
              "898  09/19/2017   Region 0  ...                  0             Race\n",
              "901  09/19/2017   Region 0  ...                  0             Race\n",
              "\n",
              "[9 rows x 20 columns]"
            ]
          },
          "metadata": {
            "tags": []
          },
          "execution_count": 141
        }
      ]
    },
    {
      "cell_type": "code",
      "metadata": {
        "id": "262Ev_bmGtu_",
        "colab_type": "code",
        "outputId": "c8756e91-17ed-4a78-8ef6-e3d8349879e4",
        "colab": {
          "base_uri": "https://localhost:8080/",
          "height": 85
        }
      },
      "source": [
        "# Is the column \"Data_as_of\" meaningful at all? There are only 3 unique entries. Sometimes it is many years after State Fiscal Year\n",
        "df_original['Data_as_of'].value_counts()"
      ],
      "execution_count": 142,
      "outputs": [
        {
          "output_type": "execute_result",
          "data": {
            "text/plain": [
              "09/19/2017    524\n",
              "08/06/2015    383\n",
              "11/07/2018     59\n",
              "Name: Data_as_of, dtype: int64"
            ]
          },
          "metadata": {
            "tags": []
          },
          "execution_count": 142
        }
      ]
    },
    {
      "cell_type": "code",
      "metadata": {
        "id": "Ljr9YT4MHW59",
        "colab_type": "code",
        "outputId": "05d0f194-5a82-4ef0-9c7f-cd95e9bca770",
        "colab": {
          "base_uri": "https://localhost:8080/",
          "height": 326
        }
      },
      "source": [
        "df_original[df_original['Data_as_of']=='11/07/2018'].head()"
      ],
      "execution_count": 143,
      "outputs": [
        {
          "output_type": "execute_result",
          "data": {
            "text/html": [
              "<div>\n",
              "<style scoped>\n",
              "    .dataframe tbody tr th:only-of-type {\n",
              "        vertical-align: middle;\n",
              "    }\n",
              "\n",
              "    .dataframe tbody tr th {\n",
              "        vertical-align: top;\n",
              "    }\n",
              "\n",
              "    .dataframe thead th {\n",
              "        text-align: right;\n",
              "    }\n",
              "</style>\n",
              "<table border=\"1\" class=\"dataframe\">\n",
              "  <thead>\n",
              "    <tr style=\"text-align: right;\">\n",
              "      <th></th>\n",
              "      <th>Data_as_of</th>\n",
              "      <th>DCF Region</th>\n",
              "      <th>DCF Office</th>\n",
              "      <th>Demographic</th>\n",
              "      <th>SFY</th>\n",
              "      <th>TOTAL_ENTRY</th>\n",
              "      <th>FOSTER_CARE</th>\n",
              "      <th>RELATIVE_CARE</th>\n",
              "      <th>SPECIAL_STUDY</th>\n",
              "      <th>THERAPEUTIC_FOSTER_CARE</th>\n",
              "      <th>PDC_SAFE_HOME</th>\n",
              "      <th>SHELTER</th>\n",
              "      <th>GROUP_HOME</th>\n",
              "      <th>RESIDENTIAL</th>\n",
              "      <th>DCF_HIGHMEADOWS</th>\n",
              "      <th>DCF_SOLNIT</th>\n",
              "      <th>DCF_CJTS</th>\n",
              "      <th>HOSPITAL</th>\n",
              "      <th>INDEPENDENT_LIVING</th>\n",
              "      <th>Demographic_Type</th>\n",
              "    </tr>\n",
              "  </thead>\n",
              "  <tbody>\n",
              "    <tr>\n",
              "      <th>907</th>\n",
              "      <td>11/07/2018</td>\n",
              "      <td>Region 3</td>\n",
              "      <td>Willimantic Office</td>\n",
              "      <td>Hispanic</td>\n",
              "      <td>2018</td>\n",
              "      <td>35</td>\n",
              "      <td>21</td>\n",
              "      <td>6</td>\n",
              "      <td>2</td>\n",
              "      <td>0</td>\n",
              "      <td>0</td>\n",
              "      <td>3</td>\n",
              "      <td>0</td>\n",
              "      <td>0</td>\n",
              "      <td>0</td>\n",
              "      <td>0</td>\n",
              "      <td>0</td>\n",
              "      <td>2</td>\n",
              "      <td>1</td>\n",
              "      <td>Race</td>\n",
              "    </tr>\n",
              "    <tr>\n",
              "      <th>908</th>\n",
              "      <td>11/07/2018</td>\n",
              "      <td>Region 4</td>\n",
              "      <td>Manchester Office</td>\n",
              "      <td>Non-Hispanic White</td>\n",
              "      <td>2018</td>\n",
              "      <td>82</td>\n",
              "      <td>26</td>\n",
              "      <td>42</td>\n",
              "      <td>2</td>\n",
              "      <td>1</td>\n",
              "      <td>3</td>\n",
              "      <td>0</td>\n",
              "      <td>0</td>\n",
              "      <td>0</td>\n",
              "      <td>0</td>\n",
              "      <td>1</td>\n",
              "      <td>0</td>\n",
              "      <td>6</td>\n",
              "      <td>1</td>\n",
              "      <td>Race</td>\n",
              "    </tr>\n",
              "    <tr>\n",
              "      <th>909</th>\n",
              "      <td>11/07/2018</td>\n",
              "      <td>Region 1</td>\n",
              "      <td>Bridgeport Office</td>\n",
              "      <td>Hispanic</td>\n",
              "      <td>2018</td>\n",
              "      <td>56</td>\n",
              "      <td>15</td>\n",
              "      <td>21</td>\n",
              "      <td>3</td>\n",
              "      <td>10</td>\n",
              "      <td>0</td>\n",
              "      <td>0</td>\n",
              "      <td>0</td>\n",
              "      <td>6</td>\n",
              "      <td>0</td>\n",
              "      <td>0</td>\n",
              "      <td>1</td>\n",
              "      <td>0</td>\n",
              "      <td>0</td>\n",
              "      <td>Race</td>\n",
              "    </tr>\n",
              "    <tr>\n",
              "      <th>910</th>\n",
              "      <td>11/07/2018</td>\n",
              "      <td>Region 6</td>\n",
              "      <td>New Britain Office</td>\n",
              "      <td>Non-Hispanic White</td>\n",
              "      <td>2018</td>\n",
              "      <td>67</td>\n",
              "      <td>13</td>\n",
              "      <td>43</td>\n",
              "      <td>3</td>\n",
              "      <td>1</td>\n",
              "      <td>1</td>\n",
              "      <td>0</td>\n",
              "      <td>0</td>\n",
              "      <td>0</td>\n",
              "      <td>0</td>\n",
              "      <td>0</td>\n",
              "      <td>0</td>\n",
              "      <td>6</td>\n",
              "      <td>0</td>\n",
              "      <td>Race</td>\n",
              "    </tr>\n",
              "    <tr>\n",
              "      <th>911</th>\n",
              "      <td>11/07/2018</td>\n",
              "      <td>Region 1</td>\n",
              "      <td>Norwalk Office</td>\n",
              "      <td>Non-Hispanic Black</td>\n",
              "      <td>2018</td>\n",
              "      <td>26</td>\n",
              "      <td>8</td>\n",
              "      <td>10</td>\n",
              "      <td>5</td>\n",
              "      <td>0</td>\n",
              "      <td>0</td>\n",
              "      <td>0</td>\n",
              "      <td>1</td>\n",
              "      <td>1</td>\n",
              "      <td>0</td>\n",
              "      <td>0</td>\n",
              "      <td>0</td>\n",
              "      <td>0</td>\n",
              "      <td>1</td>\n",
              "      <td>Race</td>\n",
              "    </tr>\n",
              "  </tbody>\n",
              "</table>\n",
              "</div>"
            ],
            "text/plain": [
              "     Data_as_of DCF Region  ... INDEPENDENT_LIVING Demographic_Type\n",
              "907  11/07/2018   Region 3  ...                  1             Race\n",
              "908  11/07/2018   Region 4  ...                  1             Race\n",
              "909  11/07/2018   Region 1  ...                  0             Race\n",
              "910  11/07/2018   Region 6  ...                  0             Race\n",
              "911  11/07/2018   Region 1  ...                  1             Race\n",
              "\n",
              "[5 rows x 20 columns]"
            ]
          },
          "metadata": {
            "tags": []
          },
          "execution_count": 143
        }
      ]
    },
    {
      "cell_type": "code",
      "metadata": {
        "id": "7iaX6uyGJJ_p",
        "colab_type": "code",
        "outputId": "795ecfc6-25c8-442c-d0c6-7fa53977e82b",
        "colab": {
          "base_uri": "https://localhost:8080/",
          "height": 258
        }
      },
      "source": [
        "df_original[df_original['SFY']==2010].head()"
      ],
      "execution_count": 144,
      "outputs": [
        {
          "output_type": "execute_result",
          "data": {
            "text/html": [
              "<div>\n",
              "<style scoped>\n",
              "    .dataframe tbody tr th:only-of-type {\n",
              "        vertical-align: middle;\n",
              "    }\n",
              "\n",
              "    .dataframe tbody tr th {\n",
              "        vertical-align: top;\n",
              "    }\n",
              "\n",
              "    .dataframe thead th {\n",
              "        text-align: right;\n",
              "    }\n",
              "</style>\n",
              "<table border=\"1\" class=\"dataframe\">\n",
              "  <thead>\n",
              "    <tr style=\"text-align: right;\">\n",
              "      <th></th>\n",
              "      <th>Data_as_of</th>\n",
              "      <th>DCF Region</th>\n",
              "      <th>DCF Office</th>\n",
              "      <th>Demographic</th>\n",
              "      <th>SFY</th>\n",
              "      <th>TOTAL_ENTRY</th>\n",
              "      <th>FOSTER_CARE</th>\n",
              "      <th>RELATIVE_CARE</th>\n",
              "      <th>SPECIAL_STUDY</th>\n",
              "      <th>THERAPEUTIC_FOSTER_CARE</th>\n",
              "      <th>PDC_SAFE_HOME</th>\n",
              "      <th>SHELTER</th>\n",
              "      <th>GROUP_HOME</th>\n",
              "      <th>RESIDENTIAL</th>\n",
              "      <th>DCF_HIGHMEADOWS</th>\n",
              "      <th>DCF_SOLNIT</th>\n",
              "      <th>DCF_CJTS</th>\n",
              "      <th>HOSPITAL</th>\n",
              "      <th>INDEPENDENT_LIVING</th>\n",
              "      <th>Demographic_Type</th>\n",
              "    </tr>\n",
              "  </thead>\n",
              "  <tbody>\n",
              "    <tr>\n",
              "      <th>319</th>\n",
              "      <td>08/06/2015</td>\n",
              "      <td>Other</td>\n",
              "      <td>Other</td>\n",
              "      <td>BLACK</td>\n",
              "      <td>2010</td>\n",
              "      <td>58</td>\n",
              "      <td>2</td>\n",
              "      <td>0</td>\n",
              "      <td>0</td>\n",
              "      <td>0</td>\n",
              "      <td>0</td>\n",
              "      <td>0</td>\n",
              "      <td>10</td>\n",
              "      <td>24</td>\n",
              "      <td>0</td>\n",
              "      <td>0</td>\n",
              "      <td>22</td>\n",
              "      <td>0</td>\n",
              "      <td>0</td>\n",
              "      <td>Race</td>\n",
              "    </tr>\n",
              "    <tr>\n",
              "      <th>320</th>\n",
              "      <td>08/06/2015</td>\n",
              "      <td>Other</td>\n",
              "      <td>Other</td>\n",
              "      <td>HISPANIC</td>\n",
              "      <td>2010</td>\n",
              "      <td>41</td>\n",
              "      <td>4</td>\n",
              "      <td>1</td>\n",
              "      <td>0</td>\n",
              "      <td>0</td>\n",
              "      <td>2</td>\n",
              "      <td>0</td>\n",
              "      <td>2</td>\n",
              "      <td>18</td>\n",
              "      <td>0</td>\n",
              "      <td>0</td>\n",
              "      <td>14</td>\n",
              "      <td>0</td>\n",
              "      <td>0</td>\n",
              "      <td>Race</td>\n",
              "    </tr>\n",
              "    <tr>\n",
              "      <th>321</th>\n",
              "      <td>08/06/2015</td>\n",
              "      <td>Other</td>\n",
              "      <td>Other</td>\n",
              "      <td>OTHER</td>\n",
              "      <td>2010</td>\n",
              "      <td>6</td>\n",
              "      <td>0</td>\n",
              "      <td>0</td>\n",
              "      <td>0</td>\n",
              "      <td>0</td>\n",
              "      <td>3</td>\n",
              "      <td>0</td>\n",
              "      <td>0</td>\n",
              "      <td>2</td>\n",
              "      <td>0</td>\n",
              "      <td>0</td>\n",
              "      <td>1</td>\n",
              "      <td>0</td>\n",
              "      <td>0</td>\n",
              "      <td>Race</td>\n",
              "    </tr>\n",
              "    <tr>\n",
              "      <th>322</th>\n",
              "      <td>08/06/2015</td>\n",
              "      <td>Other</td>\n",
              "      <td>Other</td>\n",
              "      <td>WHITE</td>\n",
              "      <td>2010</td>\n",
              "      <td>31</td>\n",
              "      <td>0</td>\n",
              "      <td>0</td>\n",
              "      <td>0</td>\n",
              "      <td>0</td>\n",
              "      <td>0</td>\n",
              "      <td>0</td>\n",
              "      <td>2</td>\n",
              "      <td>23</td>\n",
              "      <td>0</td>\n",
              "      <td>0</td>\n",
              "      <td>6</td>\n",
              "      <td>0</td>\n",
              "      <td>0</td>\n",
              "      <td>Race</td>\n",
              "    </tr>\n",
              "    <tr>\n",
              "      <th>323</th>\n",
              "      <td>08/06/2015</td>\n",
              "      <td>Region 1</td>\n",
              "      <td>Bridgeport Office</td>\n",
              "      <td>BLACK</td>\n",
              "      <td>2010</td>\n",
              "      <td>73</td>\n",
              "      <td>27</td>\n",
              "      <td>13</td>\n",
              "      <td>2</td>\n",
              "      <td>3</td>\n",
              "      <td>8</td>\n",
              "      <td>11</td>\n",
              "      <td>1</td>\n",
              "      <td>5</td>\n",
              "      <td>0</td>\n",
              "      <td>0</td>\n",
              "      <td>2</td>\n",
              "      <td>1</td>\n",
              "      <td>0</td>\n",
              "      <td>Race</td>\n",
              "    </tr>\n",
              "  </tbody>\n",
              "</table>\n",
              "</div>"
            ],
            "text/plain": [
              "     Data_as_of DCF Region  ... INDEPENDENT_LIVING Demographic_Type\n",
              "319  08/06/2015      Other  ...                  0             Race\n",
              "320  08/06/2015      Other  ...                  0             Race\n",
              "321  08/06/2015      Other  ...                  0             Race\n",
              "322  08/06/2015      Other  ...                  0             Race\n",
              "323  08/06/2015   Region 1  ...                  0             Race\n",
              "\n",
              "[5 rows x 20 columns]"
            ]
          },
          "metadata": {
            "tags": []
          },
          "execution_count": 144
        }
      ]
    },
    {
      "cell_type": "markdown",
      "metadata": {
        "id": "5lQBCDeOhn3l",
        "colab_type": "text"
      },
      "source": [
        "There are no null values, but I do have the following steps to take for data cleaning.\n",
        "\n",
        "1. Remove unneeded columns: \"Data_as_of\", if that makes sense (or convert it to datetime if not), and \"Demographic_Type\" which has only one value, presumably because this is a subset from a larger database that had other demographic types.\n",
        "\n",
        "2. Fix column names. Capitalization and spacing is inconsistent; I will put column names in lowercase and replace spaces with underscores for convenience\n",
        "\n",
        "3. Find and fix inconsistent coding of ethnicity\n",
        "\n",
        "4. Tidy data. The dataset, 966 rows, each row giving numbers of children by type of placement, ethnicity, and so on, is not in tidy format. I will need to have tidy dataframes in order to do some things. A complete tidy dataframe will have these columns: sfy (the index), demographic, placement_type, count, dcf_region, dcf_office. I can drop dcf_region and dcf_office since I won't be using those for this analysis.\n",
        "\n",
        "5. Pivot data. For my purposes, I will want these pivot tables:\n",
        "\n",
        "  5.1 relative care placements by sfy, white, black, hispanic, other\n",
        "\n",
        "  5.2 relative care percentages by sfy, white, black, hispanic, other\n",
        "\n",
        "Some other notes on the data\n",
        "\n",
        "*   \"TOTAL_ENTRY\" is a pre-engineered feature, the sum of all other placement types. This will be useful because I am most interested in the ratio of relative care to total placements\n",
        "*   I thought \"SFY\" would be State Fiscal Year, but it does not correspond to the dates in \"Data_as_of\". But this doesn't matter for this analysis, where I am interested in ratios rather than annual trends"
      ]
    },
    {
      "cell_type": "markdown",
      "metadata": {
        "id": "xERP-OwVgseZ",
        "colab_type": "text"
      },
      "source": [
        "### Remove unneeded columns"
      ]
    },
    {
      "cell_type": "code",
      "metadata": {
        "id": "6J6r4LSdg1-B",
        "colab_type": "code",
        "outputId": "3e6ddcb6-9384-40ef-adbb-3c1b4f75dcf5",
        "colab": {
          "base_uri": "https://localhost:8080/",
          "height": 34
        }
      },
      "source": [
        "# Make a simpler dataframe name and drop the column Demographic_Type\n",
        "df_dcf = df_original\n",
        "drop_columns = ['Demographic_Type', 'Data_as_of']\n",
        "df_dcf = df_dcf.drop(columns = drop_columns)\n",
        "df_dcf.shape"
      ],
      "execution_count": 145,
      "outputs": [
        {
          "output_type": "execute_result",
          "data": {
            "text/plain": [
              "(966, 18)"
            ]
          },
          "metadata": {
            "tags": []
          },
          "execution_count": 145
        }
      ]
    },
    {
      "cell_type": "markdown",
      "metadata": {
        "id": "eQrlS1negJl2",
        "colab_type": "text"
      },
      "source": [
        "### Fix column names"
      ]
    },
    {
      "cell_type": "code",
      "metadata": {
        "id": "tDZ5KYKzgFGg",
        "colab_type": "code",
        "outputId": "23d0d0ed-cf1f-4b12-efeb-b4b8ad9af93b",
        "colab": {
          "base_uri": "https://localhost:8080/",
          "height": 340
        }
      },
      "source": [
        "# Put column names in lower case\n",
        "df_dcf.columns = map(str.lower, df_dcf.columns)\n",
        "# Replace spaces in column names with underscores\n",
        "df_dcf = df_dcf.rename(columns = {'dcf region':'dcf_region', 'dcf office':'dcf_office'})\n",
        "df_dcf.dtypes"
      ],
      "execution_count": 146,
      "outputs": [
        {
          "output_type": "execute_result",
          "data": {
            "text/plain": [
              "dcf_region                 object\n",
              "dcf_office                 object\n",
              "demographic                object\n",
              "sfy                         int64\n",
              "total_entry                 int64\n",
              "foster_care                 int64\n",
              "relative_care               int64\n",
              "special_study               int64\n",
              "therapeutic_foster_care     int64\n",
              "pdc_safe_home               int64\n",
              "shelter                     int64\n",
              "group_home                  int64\n",
              "residential                 int64\n",
              "dcf_highmeadows             int64\n",
              "dcf_solnit                  int64\n",
              "dcf_cjts                    int64\n",
              "hospital                    int64\n",
              "independent_living          int64\n",
              "dtype: object"
            ]
          },
          "metadata": {
            "tags": []
          },
          "execution_count": 146
        }
      ]
    },
    {
      "cell_type": "markdown",
      "metadata": {
        "id": "FuksE2VP60PV",
        "colab_type": "text"
      },
      "source": [
        "### Find and fix inconsistent coding"
      ]
    },
    {
      "cell_type": "code",
      "metadata": {
        "id": "iWtHVUDuiWWr",
        "colab_type": "code",
        "outputId": "93d4d925-e225-4da4-b40c-b137c60829c8",
        "colab": {
          "base_uri": "https://localhost:8080/",
          "height": 170
        }
      },
      "source": [
        "# To recap: \"Demographic\" has values in UPPER CASE and Title Case\n",
        "df_dcf.demographic.value_counts()"
      ],
      "execution_count": 147,
      "outputs": [
        {
          "output_type": "execute_result",
          "data": {
            "text/plain": [
              "Non-Hispanic White    150\n",
              "Hispanic              150\n",
              "Non-Hispanic Black    146\n",
              "Non-Hispanic Other    137\n",
              "OTHER                  96\n",
              "HISPANIC               96\n",
              "WHITE                  96\n",
              "BLACK                  95\n",
              "Name: demographic, dtype: int64"
            ]
          },
          "metadata": {
            "tags": []
          },
          "execution_count": 147
        }
      ]
    },
    {
      "cell_type": "code",
      "metadata": {
        "id": "b8Hu1aV7iswm",
        "colab_type": "code",
        "outputId": "bd81a7f6-c778-4614-df6f-9eb89d704913",
        "colab": {
          "base_uri": "https://localhost:8080/",
          "height": 592
        }
      },
      "source": [
        "# Are the upper-case rows meant to be repeats, samples, or independent values?\n",
        "df_dcf.loc[(df_dcf['demographic'] == 'Hispanic') | (df_dcf['demographic'] == 'HISPANIC')].sort_values(by=['sfy'])"
      ],
      "execution_count": 148,
      "outputs": [
        {
          "output_type": "execute_result",
          "data": {
            "text/html": [
              "<div>\n",
              "<style scoped>\n",
              "    .dataframe tbody tr th:only-of-type {\n",
              "        vertical-align: middle;\n",
              "    }\n",
              "\n",
              "    .dataframe tbody tr th {\n",
              "        vertical-align: top;\n",
              "    }\n",
              "\n",
              "    .dataframe thead th {\n",
              "        text-align: right;\n",
              "    }\n",
              "</style>\n",
              "<table border=\"1\" class=\"dataframe\">\n",
              "  <thead>\n",
              "    <tr style=\"text-align: right;\">\n",
              "      <th></th>\n",
              "      <th>dcf_region</th>\n",
              "      <th>dcf_office</th>\n",
              "      <th>demographic</th>\n",
              "      <th>sfy</th>\n",
              "      <th>total_entry</th>\n",
              "      <th>foster_care</th>\n",
              "      <th>relative_care</th>\n",
              "      <th>special_study</th>\n",
              "      <th>therapeutic_foster_care</th>\n",
              "      <th>pdc_safe_home</th>\n",
              "      <th>shelter</th>\n",
              "      <th>group_home</th>\n",
              "      <th>residential</th>\n",
              "      <th>dcf_highmeadows</th>\n",
              "      <th>dcf_solnit</th>\n",
              "      <th>dcf_cjts</th>\n",
              "      <th>hospital</th>\n",
              "      <th>independent_living</th>\n",
              "    </tr>\n",
              "  </thead>\n",
              "  <tbody>\n",
              "    <tr>\n",
              "      <th>1</th>\n",
              "      <td>Other</td>\n",
              "      <td>Other</td>\n",
              "      <td>HISPANIC</td>\n",
              "      <td>2005</td>\n",
              "      <td>70</td>\n",
              "      <td>6</td>\n",
              "      <td>0</td>\n",
              "      <td>0</td>\n",
              "      <td>0</td>\n",
              "      <td>1</td>\n",
              "      <td>0</td>\n",
              "      <td>2</td>\n",
              "      <td>41</td>\n",
              "      <td>0</td>\n",
              "      <td>2</td>\n",
              "      <td>18</td>\n",
              "      <td>0</td>\n",
              "      <td>0</td>\n",
              "    </tr>\n",
              "    <tr>\n",
              "      <th>61</th>\n",
              "      <td>Region 6</td>\n",
              "      <td>New Britain Office</td>\n",
              "      <td>HISPANIC</td>\n",
              "      <td>2005</td>\n",
              "      <td>123</td>\n",
              "      <td>59</td>\n",
              "      <td>22</td>\n",
              "      <td>1</td>\n",
              "      <td>1</td>\n",
              "      <td>12</td>\n",
              "      <td>9</td>\n",
              "      <td>6</td>\n",
              "      <td>5</td>\n",
              "      <td>0</td>\n",
              "      <td>1</td>\n",
              "      <td>0</td>\n",
              "      <td>4</td>\n",
              "      <td>3</td>\n",
              "    </tr>\n",
              "    <tr>\n",
              "      <th>57</th>\n",
              "      <td>Region 6</td>\n",
              "      <td>Meriden Office</td>\n",
              "      <td>HISPANIC</td>\n",
              "      <td>2005</td>\n",
              "      <td>60</td>\n",
              "      <td>42</td>\n",
              "      <td>4</td>\n",
              "      <td>0</td>\n",
              "      <td>0</td>\n",
              "      <td>4</td>\n",
              "      <td>3</td>\n",
              "      <td>1</td>\n",
              "      <td>5</td>\n",
              "      <td>1</td>\n",
              "      <td>0</td>\n",
              "      <td>0</td>\n",
              "      <td>0</td>\n",
              "      <td>0</td>\n",
              "    </tr>\n",
              "    <tr>\n",
              "      <th>53</th>\n",
              "      <td>Region 5</td>\n",
              "      <td>Waterbury Office</td>\n",
              "      <td>HISPANIC</td>\n",
              "      <td>2005</td>\n",
              "      <td>110</td>\n",
              "      <td>73</td>\n",
              "      <td>17</td>\n",
              "      <td>1</td>\n",
              "      <td>0</td>\n",
              "      <td>5</td>\n",
              "      <td>2</td>\n",
              "      <td>1</td>\n",
              "      <td>9</td>\n",
              "      <td>0</td>\n",
              "      <td>1</td>\n",
              "      <td>1</td>\n",
              "      <td>0</td>\n",
              "      <td>0</td>\n",
              "    </tr>\n",
              "    <tr>\n",
              "      <th>49</th>\n",
              "      <td>Region 5</td>\n",
              "      <td>Torrington Office</td>\n",
              "      <td>HISPANIC</td>\n",
              "      <td>2005</td>\n",
              "      <td>7</td>\n",
              "      <td>6</td>\n",
              "      <td>0</td>\n",
              "      <td>0</td>\n",
              "      <td>0</td>\n",
              "      <td>1</td>\n",
              "      <td>0</td>\n",
              "      <td>0</td>\n",
              "      <td>0</td>\n",
              "      <td>0</td>\n",
              "      <td>0</td>\n",
              "      <td>0</td>\n",
              "      <td>0</td>\n",
              "      <td>0</td>\n",
              "    </tr>\n",
              "    <tr>\n",
              "      <th>...</th>\n",
              "      <td>...</td>\n",
              "      <td>...</td>\n",
              "      <td>...</td>\n",
              "      <td>...</td>\n",
              "      <td>...</td>\n",
              "      <td>...</td>\n",
              "      <td>...</td>\n",
              "      <td>...</td>\n",
              "      <td>...</td>\n",
              "      <td>...</td>\n",
              "      <td>...</td>\n",
              "      <td>...</td>\n",
              "      <td>...</td>\n",
              "      <td>...</td>\n",
              "      <td>...</td>\n",
              "      <td>...</td>\n",
              "      <td>...</td>\n",
              "      <td>...</td>\n",
              "    </tr>\n",
              "    <tr>\n",
              "      <th>914</th>\n",
              "      <td>Region 2</td>\n",
              "      <td>New Haven Office</td>\n",
              "      <td>Hispanic</td>\n",
              "      <td>2018</td>\n",
              "      <td>53</td>\n",
              "      <td>33</td>\n",
              "      <td>8</td>\n",
              "      <td>3</td>\n",
              "      <td>3</td>\n",
              "      <td>2</td>\n",
              "      <td>0</td>\n",
              "      <td>1</td>\n",
              "      <td>2</td>\n",
              "      <td>0</td>\n",
              "      <td>0</td>\n",
              "      <td>0</td>\n",
              "      <td>0</td>\n",
              "      <td>1</td>\n",
              "    </tr>\n",
              "    <tr>\n",
              "      <th>909</th>\n",
              "      <td>Region 1</td>\n",
              "      <td>Bridgeport Office</td>\n",
              "      <td>Hispanic</td>\n",
              "      <td>2018</td>\n",
              "      <td>56</td>\n",
              "      <td>15</td>\n",
              "      <td>21</td>\n",
              "      <td>3</td>\n",
              "      <td>10</td>\n",
              "      <td>0</td>\n",
              "      <td>0</td>\n",
              "      <td>0</td>\n",
              "      <td>6</td>\n",
              "      <td>0</td>\n",
              "      <td>0</td>\n",
              "      <td>1</td>\n",
              "      <td>0</td>\n",
              "      <td>0</td>\n",
              "    </tr>\n",
              "    <tr>\n",
              "      <th>907</th>\n",
              "      <td>Region 3</td>\n",
              "      <td>Willimantic Office</td>\n",
              "      <td>Hispanic</td>\n",
              "      <td>2018</td>\n",
              "      <td>35</td>\n",
              "      <td>21</td>\n",
              "      <td>6</td>\n",
              "      <td>2</td>\n",
              "      <td>0</td>\n",
              "      <td>0</td>\n",
              "      <td>3</td>\n",
              "      <td>0</td>\n",
              "      <td>0</td>\n",
              "      <td>0</td>\n",
              "      <td>0</td>\n",
              "      <td>0</td>\n",
              "      <td>2</td>\n",
              "      <td>1</td>\n",
              "    </tr>\n",
              "    <tr>\n",
              "      <th>927</th>\n",
              "      <td>Region 1</td>\n",
              "      <td>Norwalk Office</td>\n",
              "      <td>Hispanic</td>\n",
              "      <td>2018</td>\n",
              "      <td>29</td>\n",
              "      <td>16</td>\n",
              "      <td>6</td>\n",
              "      <td>4</td>\n",
              "      <td>1</td>\n",
              "      <td>0</td>\n",
              "      <td>0</td>\n",
              "      <td>0</td>\n",
              "      <td>1</td>\n",
              "      <td>0</td>\n",
              "      <td>0</td>\n",
              "      <td>0</td>\n",
              "      <td>1</td>\n",
              "      <td>0</td>\n",
              "    </tr>\n",
              "    <tr>\n",
              "      <th>965</th>\n",
              "      <td>Region 6</td>\n",
              "      <td>Meriden Office</td>\n",
              "      <td>Hispanic</td>\n",
              "      <td>2018</td>\n",
              "      <td>37</td>\n",
              "      <td>15</td>\n",
              "      <td>15</td>\n",
              "      <td>3</td>\n",
              "      <td>0</td>\n",
              "      <td>1</td>\n",
              "      <td>1</td>\n",
              "      <td>0</td>\n",
              "      <td>0</td>\n",
              "      <td>0</td>\n",
              "      <td>0</td>\n",
              "      <td>0</td>\n",
              "      <td>2</td>\n",
              "      <td>0</td>\n",
              "    </tr>\n",
              "  </tbody>\n",
              "</table>\n",
              "<p>246 rows × 18 columns</p>\n",
              "</div>"
            ],
            "text/plain": [
              "    dcf_region          dcf_office  ... hospital  independent_living\n",
              "1        Other               Other  ...        0                   0\n",
              "61    Region 6  New Britain Office  ...        4                   3\n",
              "57    Region 6      Meriden Office  ...        0                   0\n",
              "53    Region 5    Waterbury Office  ...        0                   0\n",
              "49    Region 5   Torrington Office  ...        0                   0\n",
              "..         ...                 ...  ...      ...                 ...\n",
              "914   Region 2    New Haven Office  ...        0                   1\n",
              "909   Region 1   Bridgeport Office  ...        0                   0\n",
              "907   Region 3  Willimantic Office  ...        2                   1\n",
              "927   Region 1      Norwalk Office  ...        1                   0\n",
              "965   Region 6      Meriden Office  ...        2                   0\n",
              "\n",
              "[246 rows x 18 columns]"
            ]
          },
          "metadata": {
            "tags": []
          },
          "execution_count": 148
        }
      ]
    },
    {
      "cell_type": "code",
      "metadata": {
        "id": "W4tQtrV-ixND",
        "colab_type": "code",
        "outputId": "44ec0664-0e91-40f4-fd32-d1399c554c9b",
        "colab": {
          "base_uri": "https://localhost:8080/",
          "height": 549
        }
      },
      "source": [
        "# Answer seems to be that they are values from different years. I want to see\n",
        "# what happens when I look at rows where foster_care is the same.\n",
        "condition = (df_dcf.foster_care == 16)\n",
        "df_dcf[condition].head(10)"
      ],
      "execution_count": 149,
      "outputs": [
        {
          "output_type": "execute_result",
          "data": {
            "text/html": [
              "<div>\n",
              "<style scoped>\n",
              "    .dataframe tbody tr th:only-of-type {\n",
              "        vertical-align: middle;\n",
              "    }\n",
              "\n",
              "    .dataframe tbody tr th {\n",
              "        vertical-align: top;\n",
              "    }\n",
              "\n",
              "    .dataframe thead th {\n",
              "        text-align: right;\n",
              "    }\n",
              "</style>\n",
              "<table border=\"1\" class=\"dataframe\">\n",
              "  <thead>\n",
              "    <tr style=\"text-align: right;\">\n",
              "      <th></th>\n",
              "      <th>dcf_region</th>\n",
              "      <th>dcf_office</th>\n",
              "      <th>demographic</th>\n",
              "      <th>sfy</th>\n",
              "      <th>total_entry</th>\n",
              "      <th>foster_care</th>\n",
              "      <th>relative_care</th>\n",
              "      <th>special_study</th>\n",
              "      <th>therapeutic_foster_care</th>\n",
              "      <th>pdc_safe_home</th>\n",
              "      <th>shelter</th>\n",
              "      <th>group_home</th>\n",
              "      <th>residential</th>\n",
              "      <th>dcf_highmeadows</th>\n",
              "      <th>dcf_solnit</th>\n",
              "      <th>dcf_cjts</th>\n",
              "      <th>hospital</th>\n",
              "      <th>independent_living</th>\n",
              "    </tr>\n",
              "  </thead>\n",
              "  <tbody>\n",
              "    <tr>\n",
              "      <th>27</th>\n",
              "      <td>Region 3</td>\n",
              "      <td>Middletown Office</td>\n",
              "      <td>WHITE</td>\n",
              "      <td>2005</td>\n",
              "      <td>71</td>\n",
              "      <td>16</td>\n",
              "      <td>17</td>\n",
              "      <td>3</td>\n",
              "      <td>0</td>\n",
              "      <td>18</td>\n",
              "      <td>6</td>\n",
              "      <td>1</td>\n",
              "      <td>8</td>\n",
              "      <td>0</td>\n",
              "      <td>0</td>\n",
              "      <td>0</td>\n",
              "      <td>1</td>\n",
              "      <td>1</td>\n",
              "    </tr>\n",
              "    <tr>\n",
              "      <th>45</th>\n",
              "      <td>Region 5</td>\n",
              "      <td>Danbury Office</td>\n",
              "      <td>HISPANIC</td>\n",
              "      <td>2005</td>\n",
              "      <td>32</td>\n",
              "      <td>16</td>\n",
              "      <td>5</td>\n",
              "      <td>2</td>\n",
              "      <td>0</td>\n",
              "      <td>5</td>\n",
              "      <td>1</td>\n",
              "      <td>1</td>\n",
              "      <td>2</td>\n",
              "      <td>0</td>\n",
              "      <td>0</td>\n",
              "      <td>0</td>\n",
              "      <td>0</td>\n",
              "      <td>0</td>\n",
              "    </tr>\n",
              "    <tr>\n",
              "      <th>91</th>\n",
              "      <td>Region 3</td>\n",
              "      <td>Middletown Office</td>\n",
              "      <td>WHITE</td>\n",
              "      <td>2006</td>\n",
              "      <td>68</td>\n",
              "      <td>16</td>\n",
              "      <td>9</td>\n",
              "      <td>1</td>\n",
              "      <td>5</td>\n",
              "      <td>11</td>\n",
              "      <td>3</td>\n",
              "      <td>3</td>\n",
              "      <td>15</td>\n",
              "      <td>2</td>\n",
              "      <td>1</td>\n",
              "      <td>0</td>\n",
              "      <td>1</td>\n",
              "      <td>1</td>\n",
              "    </tr>\n",
              "    <tr>\n",
              "      <th>111</th>\n",
              "      <td>Region 5</td>\n",
              "      <td>Danbury Office</td>\n",
              "      <td>WHITE</td>\n",
              "      <td>2006</td>\n",
              "      <td>38</td>\n",
              "      <td>16</td>\n",
              "      <td>11</td>\n",
              "      <td>0</td>\n",
              "      <td>0</td>\n",
              "      <td>4</td>\n",
              "      <td>2</td>\n",
              "      <td>0</td>\n",
              "      <td>4</td>\n",
              "      <td>0</td>\n",
              "      <td>1</td>\n",
              "      <td>0</td>\n",
              "      <td>0</td>\n",
              "      <td>0</td>\n",
              "    </tr>\n",
              "    <tr>\n",
              "      <th>124</th>\n",
              "      <td>Region 6</td>\n",
              "      <td>New Britain Office</td>\n",
              "      <td>BLACK</td>\n",
              "      <td>2006</td>\n",
              "      <td>37</td>\n",
              "      <td>16</td>\n",
              "      <td>4</td>\n",
              "      <td>2</td>\n",
              "      <td>0</td>\n",
              "      <td>9</td>\n",
              "      <td>2</td>\n",
              "      <td>2</td>\n",
              "      <td>1</td>\n",
              "      <td>0</td>\n",
              "      <td>0</td>\n",
              "      <td>0</td>\n",
              "      <td>0</td>\n",
              "      <td>1</td>\n",
              "    </tr>\n",
              "    <tr>\n",
              "      <th>182</th>\n",
              "      <td>Region 5</td>\n",
              "      <td>Waterbury Office</td>\n",
              "      <td>OTHER</td>\n",
              "      <td>2007</td>\n",
              "      <td>22</td>\n",
              "      <td>16</td>\n",
              "      <td>3</td>\n",
              "      <td>0</td>\n",
              "      <td>0</td>\n",
              "      <td>1</td>\n",
              "      <td>0</td>\n",
              "      <td>0</td>\n",
              "      <td>2</td>\n",
              "      <td>0</td>\n",
              "      <td>0</td>\n",
              "      <td>0</td>\n",
              "      <td>0</td>\n",
              "      <td>0</td>\n",
              "    </tr>\n",
              "    <tr>\n",
              "      <th>219</th>\n",
              "      <td>Region 3</td>\n",
              "      <td>Middletown Office</td>\n",
              "      <td>WHITE</td>\n",
              "      <td>2008</td>\n",
              "      <td>42</td>\n",
              "      <td>16</td>\n",
              "      <td>8</td>\n",
              "      <td>1</td>\n",
              "      <td>1</td>\n",
              "      <td>1</td>\n",
              "      <td>7</td>\n",
              "      <td>2</td>\n",
              "      <td>4</td>\n",
              "      <td>0</td>\n",
              "      <td>1</td>\n",
              "      <td>0</td>\n",
              "      <td>1</td>\n",
              "      <td>0</td>\n",
              "    </tr>\n",
              "    <tr>\n",
              "      <th>268</th>\n",
              "      <td>Region 1</td>\n",
              "      <td>Stamford Office</td>\n",
              "      <td>HISPANIC</td>\n",
              "      <td>2009</td>\n",
              "      <td>31</td>\n",
              "      <td>16</td>\n",
              "      <td>2</td>\n",
              "      <td>0</td>\n",
              "      <td>4</td>\n",
              "      <td>6</td>\n",
              "      <td>1</td>\n",
              "      <td>0</td>\n",
              "      <td>0</td>\n",
              "      <td>0</td>\n",
              "      <td>0</td>\n",
              "      <td>0</td>\n",
              "      <td>1</td>\n",
              "      <td>1</td>\n",
              "    </tr>\n",
              "    <tr>\n",
              "      <th>302</th>\n",
              "      <td>Region 5</td>\n",
              "      <td>Danbury Office</td>\n",
              "      <td>WHITE</td>\n",
              "      <td>2009</td>\n",
              "      <td>41</td>\n",
              "      <td>16</td>\n",
              "      <td>9</td>\n",
              "      <td>3</td>\n",
              "      <td>0</td>\n",
              "      <td>3</td>\n",
              "      <td>2</td>\n",
              "      <td>1</td>\n",
              "      <td>2</td>\n",
              "      <td>0</td>\n",
              "      <td>1</td>\n",
              "      <td>0</td>\n",
              "      <td>4</td>\n",
              "      <td>0</td>\n",
              "    </tr>\n",
              "    <tr>\n",
              "      <th>399</th>\n",
              "      <td>Region 1</td>\n",
              "      <td>Bridgeport Office</td>\n",
              "      <td>Non-Hispanic White</td>\n",
              "      <td>2011</td>\n",
              "      <td>32</td>\n",
              "      <td>16</td>\n",
              "      <td>8</td>\n",
              "      <td>0</td>\n",
              "      <td>0</td>\n",
              "      <td>3</td>\n",
              "      <td>1</td>\n",
              "      <td>0</td>\n",
              "      <td>3</td>\n",
              "      <td>0</td>\n",
              "      <td>0</td>\n",
              "      <td>0</td>\n",
              "      <td>1</td>\n",
              "      <td>0</td>\n",
              "    </tr>\n",
              "  </tbody>\n",
              "</table>\n",
              "</div>"
            ],
            "text/plain": [
              "    dcf_region          dcf_office  ... hospital  independent_living\n",
              "27    Region 3   Middletown Office  ...        1                   1\n",
              "45    Region 5      Danbury Office  ...        0                   0\n",
              "91    Region 3   Middletown Office  ...        1                   1\n",
              "111   Region 5      Danbury Office  ...        0                   0\n",
              "124   Region 6  New Britain Office  ...        0                   1\n",
              "182   Region 5    Waterbury Office  ...        0                   0\n",
              "219   Region 3   Middletown Office  ...        1                   0\n",
              "268   Region 1     Stamford Office  ...        1                   1\n",
              "302   Region 5      Danbury Office  ...        4                   0\n",
              "399   Region 1   Bridgeport Office  ...        1                   0\n",
              "\n",
              "[10 rows x 18 columns]"
            ]
          },
          "metadata": {
            "tags": []
          },
          "execution_count": 149
        }
      ]
    },
    {
      "cell_type": "markdown",
      "metadata": {
        "id": "gF2DVeeTvFVG",
        "colab_type": "text"
      },
      "source": [
        "It appears that they switched the way they coded ethnicity around 2006. The use of \"OTHER\" as oppposed to \"Non-Hispanic Other,\" for example, does not indicate that one or the other was a random sample or anything like that. Therefore, we can change the entries for consistency."
      ]
    },
    {
      "cell_type": "code",
      "metadata": {
        "id": "XH5JzAUli5NU",
        "colab_type": "code",
        "colab": {}
      },
      "source": [
        "# So, even in cases where \"WHITE\" and \"Non-Hispanic White\" both showed 16 foster_care,\n",
        "# they were from different offices different State Fiscal Year.\n",
        "# So I can use a dictionary to standardize \"Non-Hispanic Black\" to \"black\" and so forth.\n",
        "demographic_dictionary = {'HISPANIC':'hispanic', 'Hispanic':'hispanic',\n",
        "      'BLACK':'black', 'Non-Hispanic Black':'black',\n",
        "      'WHITE':'white', 'Non-Hispanic White':'white',\n",
        "      'OTHER':'other', 'Non-Hispanic Other':'other'}\n",
        "df_dcf = df_dcf.replace({'demographic': demographic_dictionary})"
      ],
      "execution_count": 0,
      "outputs": []
    },
    {
      "cell_type": "code",
      "metadata": {
        "id": "TV7Iyx8gi9vW",
        "colab_type": "code",
        "outputId": "ce762c81-3eb9-4cc4-c4b7-3662ca73c4ac",
        "colab": {
          "base_uri": "https://localhost:8080/",
          "height": 102
        }
      },
      "source": [
        "df_dcf.demographic.value_counts()"
      ],
      "execution_count": 151,
      "outputs": [
        {
          "output_type": "execute_result",
          "data": {
            "text/plain": [
              "white       246\n",
              "hispanic    246\n",
              "black       241\n",
              "other       233\n",
              "Name: demographic, dtype: int64"
            ]
          },
          "metadata": {
            "tags": []
          },
          "execution_count": 151
        }
      ]
    },
    {
      "cell_type": "markdown",
      "metadata": {
        "id": "ilNDXrws4qeW",
        "colab_type": "text"
      },
      "source": [
        "### Make tidy and pivot tables\n",
        "I want a dataframe that shows total placements and relative care placements for each ethnicity by year, with one row per year.\n",
        "\n",
        "Tidy data. The dataset, 966 rows, each row giving numbers of children by type of placement, ethnicity, and so on, is not in tidy format. I will need to have tidy dataframes in order to do some things. A tidy dataframe for this analysis will have these columns: sfy, demographic, placement_type, count. (I can drop dcf_region and dcf_office since I won't be using those for this analysis.)\n",
        "\n",
        "Pivot data. For my purposes, I will want these pivot tables:\n",
        "\n",
        "5.1 relative care placements by sfy, white, black, hispanic, other\n",
        "\n",
        "5.2 relative care percentages by sfy, white, black, hispanic, other"
      ]
    },
    {
      "cell_type": "code",
      "metadata": {
        "id": "mBhR5S0iZWI0",
        "colab_type": "code",
        "outputId": "863b5c4a-3fa7-4b58-c696-68b28a9b99d4",
        "colab": {
          "base_uri": "https://localhost:8080/",
          "height": 306
        }
      },
      "source": [
        "# How many new entrants (placements) by year?\n",
        "print('Sum by \\n', df_dcf.groupby('sfy')['total_entry'].sum())"
      ],
      "execution_count": 152,
      "outputs": [
        {
          "output_type": "stream",
          "text": [
            "Sum by \n",
            " sfy\n",
            "2005    3200\n",
            "2006    3386\n",
            "2007    3041\n",
            "2008    2737\n",
            "2009    2805\n",
            "2010    2486\n",
            "2011    2633\n",
            "2012    2072\n",
            "2013    1965\n",
            "2014    2111\n",
            "2015    1943\n",
            "2016    2328\n",
            "2017    4650\n",
            "2018    2211\n",
            "Name: total_entry, dtype: int64\n"
          ],
          "name": "stdout"
        }
      ]
    },
    {
      "cell_type": "code",
      "metadata": {
        "id": "NsimYKIsOW8C",
        "colab_type": "code",
        "colab": {
          "base_uri": "https://localhost:8080/",
          "height": 204
        },
        "outputId": "2d860bd7-85b9-4c79-9bc8-04f15c44f5b5"
      },
      "source": [
        "# For pivot table, get total and relative_care grouped by year and demographic and reindex\n",
        "df_tidy = df_dcf.groupby(['sfy', 'demographic'])['total_entry', 'relative_care'].sum()\n",
        "df_tidy = df_tidy.reset_index()\n",
        "df_tidy.head()\n",
        "# df_totals = df_dcf.groupby(['sfy', 'demographic']).sum()\n",
        "# df_totals = df_totals.drop(['total_entry', 'relative_care_ratio'], axis=1)\n",
        "# df_temp = df_dcf[['sfy', 'demographic', 'total_entry', 'relative_care']].copy()"
      ],
      "execution_count": 153,
      "outputs": [
        {
          "output_type": "execute_result",
          "data": {
            "text/html": [
              "<div>\n",
              "<style scoped>\n",
              "    .dataframe tbody tr th:only-of-type {\n",
              "        vertical-align: middle;\n",
              "    }\n",
              "\n",
              "    .dataframe tbody tr th {\n",
              "        vertical-align: top;\n",
              "    }\n",
              "\n",
              "    .dataframe thead th {\n",
              "        text-align: right;\n",
              "    }\n",
              "</style>\n",
              "<table border=\"1\" class=\"dataframe\">\n",
              "  <thead>\n",
              "    <tr style=\"text-align: right;\">\n",
              "      <th></th>\n",
              "      <th>sfy</th>\n",
              "      <th>demographic</th>\n",
              "      <th>total_entry</th>\n",
              "      <th>relative_care</th>\n",
              "    </tr>\n",
              "  </thead>\n",
              "  <tbody>\n",
              "    <tr>\n",
              "      <th>0</th>\n",
              "      <td>2005</td>\n",
              "      <td>black</td>\n",
              "      <td>876</td>\n",
              "      <td>122</td>\n",
              "    </tr>\n",
              "    <tr>\n",
              "      <th>1</th>\n",
              "      <td>2005</td>\n",
              "      <td>hispanic</td>\n",
              "      <td>983</td>\n",
              "      <td>144</td>\n",
              "    </tr>\n",
              "    <tr>\n",
              "      <th>2</th>\n",
              "      <td>2005</td>\n",
              "      <td>other</td>\n",
              "      <td>199</td>\n",
              "      <td>19</td>\n",
              "    </tr>\n",
              "    <tr>\n",
              "      <th>3</th>\n",
              "      <td>2005</td>\n",
              "      <td>white</td>\n",
              "      <td>1142</td>\n",
              "      <td>191</td>\n",
              "    </tr>\n",
              "    <tr>\n",
              "      <th>4</th>\n",
              "      <td>2006</td>\n",
              "      <td>black</td>\n",
              "      <td>953</td>\n",
              "      <td>160</td>\n",
              "    </tr>\n",
              "  </tbody>\n",
              "</table>\n",
              "</div>"
            ],
            "text/plain": [
              "    sfy demographic  total_entry  relative_care\n",
              "0  2005       black          876            122\n",
              "1  2005    hispanic          983            144\n",
              "2  2005       other          199             19\n",
              "3  2005       white         1142            191\n",
              "4  2006       black          953            160"
            ]
          },
          "metadata": {
            "tags": []
          },
          "execution_count": 153
        }
      ]
    },
    {
      "cell_type": "code",
      "metadata": {
        "id": "JAJKfCQPf66L",
        "colab_type": "code",
        "colab": {}
      },
      "source": [
        "df_temp = df_dcf.copy()"
      ],
      "execution_count": 0,
      "outputs": []
    },
    {
      "cell_type": "code",
      "metadata": {
        "id": "sQfBXswFg5E-",
        "colab_type": "code",
        "colab": {}
      },
      "source": [
        "df_temp = df_temp.drop(columns=['dcf_region', 'dcf_office', 'total_entry'], axis=1)"
      ],
      "execution_count": 0,
      "outputs": []
    },
    {
      "cell_type": "code",
      "metadata": {
        "id": "xiAE6cMJhP7n",
        "colab_type": "code",
        "colab": {
          "base_uri": "https://localhost:8080/",
          "height": 224
        },
        "outputId": "6dcb1949-4271-4e9f-f423-bdfc1f7df615"
      },
      "source": [
        "df_temp.head()"
      ],
      "execution_count": 156,
      "outputs": [
        {
          "output_type": "execute_result",
          "data": {
            "text/html": [
              "<div>\n",
              "<style scoped>\n",
              "    .dataframe tbody tr th:only-of-type {\n",
              "        vertical-align: middle;\n",
              "    }\n",
              "\n",
              "    .dataframe tbody tr th {\n",
              "        vertical-align: top;\n",
              "    }\n",
              "\n",
              "    .dataframe thead th {\n",
              "        text-align: right;\n",
              "    }\n",
              "</style>\n",
              "<table border=\"1\" class=\"dataframe\">\n",
              "  <thead>\n",
              "    <tr style=\"text-align: right;\">\n",
              "      <th></th>\n",
              "      <th>demographic</th>\n",
              "      <th>sfy</th>\n",
              "      <th>foster_care</th>\n",
              "      <th>relative_care</th>\n",
              "      <th>special_study</th>\n",
              "      <th>therapeutic_foster_care</th>\n",
              "      <th>pdc_safe_home</th>\n",
              "      <th>shelter</th>\n",
              "      <th>group_home</th>\n",
              "      <th>residential</th>\n",
              "      <th>dcf_highmeadows</th>\n",
              "      <th>dcf_solnit</th>\n",
              "      <th>dcf_cjts</th>\n",
              "      <th>hospital</th>\n",
              "      <th>independent_living</th>\n",
              "    </tr>\n",
              "  </thead>\n",
              "  <tbody>\n",
              "    <tr>\n",
              "      <th>0</th>\n",
              "      <td>black</td>\n",
              "      <td>2005</td>\n",
              "      <td>3</td>\n",
              "      <td>2</td>\n",
              "      <td>0</td>\n",
              "      <td>0</td>\n",
              "      <td>2</td>\n",
              "      <td>0</td>\n",
              "      <td>1</td>\n",
              "      <td>45</td>\n",
              "      <td>0</td>\n",
              "      <td>1</td>\n",
              "      <td>23</td>\n",
              "      <td>0</td>\n",
              "      <td>0</td>\n",
              "    </tr>\n",
              "    <tr>\n",
              "      <th>1</th>\n",
              "      <td>hispanic</td>\n",
              "      <td>2005</td>\n",
              "      <td>6</td>\n",
              "      <td>0</td>\n",
              "      <td>0</td>\n",
              "      <td>0</td>\n",
              "      <td>1</td>\n",
              "      <td>0</td>\n",
              "      <td>2</td>\n",
              "      <td>41</td>\n",
              "      <td>0</td>\n",
              "      <td>2</td>\n",
              "      <td>18</td>\n",
              "      <td>0</td>\n",
              "      <td>0</td>\n",
              "    </tr>\n",
              "    <tr>\n",
              "      <th>2</th>\n",
              "      <td>other</td>\n",
              "      <td>2005</td>\n",
              "      <td>0</td>\n",
              "      <td>0</td>\n",
              "      <td>0</td>\n",
              "      <td>0</td>\n",
              "      <td>0</td>\n",
              "      <td>0</td>\n",
              "      <td>0</td>\n",
              "      <td>21</td>\n",
              "      <td>0</td>\n",
              "      <td>0</td>\n",
              "      <td>2</td>\n",
              "      <td>0</td>\n",
              "      <td>0</td>\n",
              "    </tr>\n",
              "    <tr>\n",
              "      <th>3</th>\n",
              "      <td>white</td>\n",
              "      <td>2005</td>\n",
              "      <td>2</td>\n",
              "      <td>5</td>\n",
              "      <td>0</td>\n",
              "      <td>0</td>\n",
              "      <td>1</td>\n",
              "      <td>0</td>\n",
              "      <td>4</td>\n",
              "      <td>40</td>\n",
              "      <td>0</td>\n",
              "      <td>1</td>\n",
              "      <td>8</td>\n",
              "      <td>0</td>\n",
              "      <td>0</td>\n",
              "    </tr>\n",
              "    <tr>\n",
              "      <th>4</th>\n",
              "      <td>black</td>\n",
              "      <td>2005</td>\n",
              "      <td>64</td>\n",
              "      <td>12</td>\n",
              "      <td>1</td>\n",
              "      <td>3</td>\n",
              "      <td>19</td>\n",
              "      <td>11</td>\n",
              "      <td>2</td>\n",
              "      <td>10</td>\n",
              "      <td>2</td>\n",
              "      <td>0</td>\n",
              "      <td>1</td>\n",
              "      <td>1</td>\n",
              "      <td>0</td>\n",
              "    </tr>\n",
              "  </tbody>\n",
              "</table>\n",
              "</div>"
            ],
            "text/plain": [
              "  demographic   sfy  foster_care  ...  dcf_cjts  hospital  independent_living\n",
              "0       black  2005            3  ...        23         0                   0\n",
              "1    hispanic  2005            6  ...        18         0                   0\n",
              "2       other  2005            0  ...         2         0                   0\n",
              "3       white  2005            2  ...         8         0                   0\n",
              "4       black  2005           64  ...         1         1                   0\n",
              "\n",
              "[5 rows x 15 columns]"
            ]
          },
          "metadata": {
            "tags": []
          },
          "execution_count": 156
        }
      ]
    },
    {
      "cell_type": "code",
      "metadata": {
        "id": "ZwqI3CnDgBLE",
        "colab_type": "code",
        "colab": {}
      },
      "source": [
        "df_tidy_complete = df_temp.melt(id_vars=['sfy', 'demographic'], var_name='placement', value_name='count')"
      ],
      "execution_count": 0,
      "outputs": []
    },
    {
      "cell_type": "code",
      "metadata": {
        "id": "tjit28T3guko",
        "colab_type": "code",
        "colab": {
          "base_uri": "https://localhost:8080/",
          "height": 419
        },
        "outputId": "74d7f4e2-06ff-4ac2-e3de-22a1741d719e"
      },
      "source": [
        "df_tidy_complete.head(100)"
      ],
      "execution_count": 158,
      "outputs": [
        {
          "output_type": "execute_result",
          "data": {
            "text/html": [
              "<div>\n",
              "<style scoped>\n",
              "    .dataframe tbody tr th:only-of-type {\n",
              "        vertical-align: middle;\n",
              "    }\n",
              "\n",
              "    .dataframe tbody tr th {\n",
              "        vertical-align: top;\n",
              "    }\n",
              "\n",
              "    .dataframe thead th {\n",
              "        text-align: right;\n",
              "    }\n",
              "</style>\n",
              "<table border=\"1\" class=\"dataframe\">\n",
              "  <thead>\n",
              "    <tr style=\"text-align: right;\">\n",
              "      <th></th>\n",
              "      <th>sfy</th>\n",
              "      <th>demographic</th>\n",
              "      <th>placement</th>\n",
              "      <th>count</th>\n",
              "    </tr>\n",
              "  </thead>\n",
              "  <tbody>\n",
              "    <tr>\n",
              "      <th>0</th>\n",
              "      <td>2005</td>\n",
              "      <td>black</td>\n",
              "      <td>foster_care</td>\n",
              "      <td>3</td>\n",
              "    </tr>\n",
              "    <tr>\n",
              "      <th>1</th>\n",
              "      <td>2005</td>\n",
              "      <td>hispanic</td>\n",
              "      <td>foster_care</td>\n",
              "      <td>6</td>\n",
              "    </tr>\n",
              "    <tr>\n",
              "      <th>2</th>\n",
              "      <td>2005</td>\n",
              "      <td>other</td>\n",
              "      <td>foster_care</td>\n",
              "      <td>0</td>\n",
              "    </tr>\n",
              "    <tr>\n",
              "      <th>3</th>\n",
              "      <td>2005</td>\n",
              "      <td>white</td>\n",
              "      <td>foster_care</td>\n",
              "      <td>2</td>\n",
              "    </tr>\n",
              "    <tr>\n",
              "      <th>4</th>\n",
              "      <td>2005</td>\n",
              "      <td>black</td>\n",
              "      <td>foster_care</td>\n",
              "      <td>64</td>\n",
              "    </tr>\n",
              "    <tr>\n",
              "      <th>...</th>\n",
              "      <td>...</td>\n",
              "      <td>...</td>\n",
              "      <td>...</td>\n",
              "      <td>...</td>\n",
              "    </tr>\n",
              "    <tr>\n",
              "      <th>95</th>\n",
              "      <td>2006</td>\n",
              "      <td>white</td>\n",
              "      <td>foster_care</td>\n",
              "      <td>59</td>\n",
              "    </tr>\n",
              "    <tr>\n",
              "      <th>96</th>\n",
              "      <td>2006</td>\n",
              "      <td>black</td>\n",
              "      <td>foster_care</td>\n",
              "      <td>3</td>\n",
              "    </tr>\n",
              "    <tr>\n",
              "      <th>97</th>\n",
              "      <td>2006</td>\n",
              "      <td>hispanic</td>\n",
              "      <td>foster_care</td>\n",
              "      <td>19</td>\n",
              "    </tr>\n",
              "    <tr>\n",
              "      <th>98</th>\n",
              "      <td>2006</td>\n",
              "      <td>other</td>\n",
              "      <td>foster_care</td>\n",
              "      <td>4</td>\n",
              "    </tr>\n",
              "    <tr>\n",
              "      <th>99</th>\n",
              "      <td>2006</td>\n",
              "      <td>white</td>\n",
              "      <td>foster_care</td>\n",
              "      <td>51</td>\n",
              "    </tr>\n",
              "  </tbody>\n",
              "</table>\n",
              "<p>100 rows × 4 columns</p>\n",
              "</div>"
            ],
            "text/plain": [
              "     sfy demographic    placement  count\n",
              "0   2005       black  foster_care      3\n",
              "1   2005    hispanic  foster_care      6\n",
              "2   2005       other  foster_care      0\n",
              "3   2005       white  foster_care      2\n",
              "4   2005       black  foster_care     64\n",
              "..   ...         ...          ...    ...\n",
              "95  2006       white  foster_care     59\n",
              "96  2006       black  foster_care      3\n",
              "97  2006    hispanic  foster_care     19\n",
              "98  2006       other  foster_care      4\n",
              "99  2006       white  foster_care     51\n",
              "\n",
              "[100 rows x 4 columns]"
            ]
          },
          "metadata": {
            "tags": []
          },
          "execution_count": 158
        }
      ]
    },
    {
      "cell_type": "code",
      "metadata": {
        "id": "bMOkbv1AkR3-",
        "colab_type": "code",
        "colab": {
          "base_uri": "https://localhost:8080/",
          "height": 255
        },
        "outputId": "a8d0a28c-24f1-45e7-d79d-9696e78d414b"
      },
      "source": [
        "df_tidy_complete['placement'].value_counts()"
      ],
      "execution_count": 159,
      "outputs": [
        {
          "output_type": "execute_result",
          "data": {
            "text/plain": [
              "therapeutic_foster_care    966\n",
              "pdc_safe_home              966\n",
              "independent_living         966\n",
              "group_home                 966\n",
              "dcf_cjts                   966\n",
              "hospital                   966\n",
              "foster_care                966\n",
              "residential                966\n",
              "special_study              966\n",
              "dcf_solnit                 966\n",
              "dcf_highmeadows            966\n",
              "relative_care              966\n",
              "shelter                    966\n",
              "Name: placement, dtype: int64"
            ]
          },
          "metadata": {
            "tags": []
          },
          "execution_count": 159
        }
      ]
    },
    {
      "cell_type": "code",
      "metadata": {
        "id": "b6rL67UJ7rJR",
        "colab_type": "code",
        "colab": {
          "base_uri": "https://localhost:8080/",
          "height": 34
        },
        "outputId": "87ab9b93-4e37-4cb7-8f1f-220fcacf2dcb"
      },
      "source": [
        "df_tidy_complete.shape"
      ],
      "execution_count": 162,
      "outputs": [
        {
          "output_type": "execute_result",
          "data": {
            "text/plain": [
              "(12558, 4)"
            ]
          },
          "metadata": {
            "tags": []
          },
          "execution_count": 162
        }
      ]
    },
    {
      "cell_type": "code",
      "metadata": {
        "id": "PpXM8UhIoPJq",
        "colab_type": "code",
        "outputId": "844ac924-fe90-41bd-ce66-0245318bc99e",
        "colab": {
          "base_uri": "https://localhost:8080/",
          "height": 224
        }
      },
      "source": [
        "# Make a tidy data table so that relative_care, demographic, and dcf_office are in rows\n",
        "# After replacing these with numeric, we can do k-means to see if there are clusters\n",
        "df_tidy = df_temp\n",
        "df_tidy.head()"
      ],
      "execution_count": 164,
      "outputs": [
        {
          "output_type": "execute_result",
          "data": {
            "text/html": [
              "<div>\n",
              "<style scoped>\n",
              "    .dataframe tbody tr th:only-of-type {\n",
              "        vertical-align: middle;\n",
              "    }\n",
              "\n",
              "    .dataframe tbody tr th {\n",
              "        vertical-align: top;\n",
              "    }\n",
              "\n",
              "    .dataframe thead th {\n",
              "        text-align: right;\n",
              "    }\n",
              "</style>\n",
              "<table border=\"1\" class=\"dataframe\">\n",
              "  <thead>\n",
              "    <tr style=\"text-align: right;\">\n",
              "      <th></th>\n",
              "      <th>demographic</th>\n",
              "      <th>sfy</th>\n",
              "      <th>foster_care</th>\n",
              "      <th>relative_care</th>\n",
              "      <th>special_study</th>\n",
              "      <th>therapeutic_foster_care</th>\n",
              "      <th>pdc_safe_home</th>\n",
              "      <th>shelter</th>\n",
              "      <th>group_home</th>\n",
              "      <th>residential</th>\n",
              "      <th>dcf_highmeadows</th>\n",
              "      <th>dcf_solnit</th>\n",
              "      <th>dcf_cjts</th>\n",
              "      <th>hospital</th>\n",
              "      <th>independent_living</th>\n",
              "    </tr>\n",
              "  </thead>\n",
              "  <tbody>\n",
              "    <tr>\n",
              "      <th>0</th>\n",
              "      <td>black</td>\n",
              "      <td>2005</td>\n",
              "      <td>3</td>\n",
              "      <td>2</td>\n",
              "      <td>0</td>\n",
              "      <td>0</td>\n",
              "      <td>2</td>\n",
              "      <td>0</td>\n",
              "      <td>1</td>\n",
              "      <td>45</td>\n",
              "      <td>0</td>\n",
              "      <td>1</td>\n",
              "      <td>23</td>\n",
              "      <td>0</td>\n",
              "      <td>0</td>\n",
              "    </tr>\n",
              "    <tr>\n",
              "      <th>1</th>\n",
              "      <td>hispanic</td>\n",
              "      <td>2005</td>\n",
              "      <td>6</td>\n",
              "      <td>0</td>\n",
              "      <td>0</td>\n",
              "      <td>0</td>\n",
              "      <td>1</td>\n",
              "      <td>0</td>\n",
              "      <td>2</td>\n",
              "      <td>41</td>\n",
              "      <td>0</td>\n",
              "      <td>2</td>\n",
              "      <td>18</td>\n",
              "      <td>0</td>\n",
              "      <td>0</td>\n",
              "    </tr>\n",
              "    <tr>\n",
              "      <th>2</th>\n",
              "      <td>other</td>\n",
              "      <td>2005</td>\n",
              "      <td>0</td>\n",
              "      <td>0</td>\n",
              "      <td>0</td>\n",
              "      <td>0</td>\n",
              "      <td>0</td>\n",
              "      <td>0</td>\n",
              "      <td>0</td>\n",
              "      <td>21</td>\n",
              "      <td>0</td>\n",
              "      <td>0</td>\n",
              "      <td>2</td>\n",
              "      <td>0</td>\n",
              "      <td>0</td>\n",
              "    </tr>\n",
              "    <tr>\n",
              "      <th>3</th>\n",
              "      <td>white</td>\n",
              "      <td>2005</td>\n",
              "      <td>2</td>\n",
              "      <td>5</td>\n",
              "      <td>0</td>\n",
              "      <td>0</td>\n",
              "      <td>1</td>\n",
              "      <td>0</td>\n",
              "      <td>4</td>\n",
              "      <td>40</td>\n",
              "      <td>0</td>\n",
              "      <td>1</td>\n",
              "      <td>8</td>\n",
              "      <td>0</td>\n",
              "      <td>0</td>\n",
              "    </tr>\n",
              "    <tr>\n",
              "      <th>4</th>\n",
              "      <td>black</td>\n",
              "      <td>2005</td>\n",
              "      <td>64</td>\n",
              "      <td>12</td>\n",
              "      <td>1</td>\n",
              "      <td>3</td>\n",
              "      <td>19</td>\n",
              "      <td>11</td>\n",
              "      <td>2</td>\n",
              "      <td>10</td>\n",
              "      <td>2</td>\n",
              "      <td>0</td>\n",
              "      <td>1</td>\n",
              "      <td>1</td>\n",
              "      <td>0</td>\n",
              "    </tr>\n",
              "  </tbody>\n",
              "</table>\n",
              "</div>"
            ],
            "text/plain": [
              "  demographic   sfy  foster_care  ...  dcf_cjts  hospital  independent_living\n",
              "0       black  2005            3  ...        23         0                   0\n",
              "1    hispanic  2005            6  ...        18         0                   0\n",
              "2       other  2005            0  ...         2         0                   0\n",
              "3       white  2005            2  ...         8         0                   0\n",
              "4       black  2005           64  ...         1         1                   0\n",
              "\n",
              "[5 rows x 15 columns]"
            ]
          },
          "metadata": {
            "tags": []
          },
          "execution_count": 164
        }
      ]
    },
    {
      "cell_type": "code",
      "metadata": {
        "id": "riRm16JXG1c2",
        "colab_type": "code",
        "outputId": "c836b03d-c0c8-47cf-8e87-bc652e548a1d",
        "colab": {
          "base_uri": "https://localhost:8080/",
          "height": 379
        }
      },
      "source": [
        "df_temp.sort_values(by='demographic').head(10)"
      ],
      "execution_count": 165,
      "outputs": [
        {
          "output_type": "execute_result",
          "data": {
            "text/html": [
              "<div>\n",
              "<style scoped>\n",
              "    .dataframe tbody tr th:only-of-type {\n",
              "        vertical-align: middle;\n",
              "    }\n",
              "\n",
              "    .dataframe tbody tr th {\n",
              "        vertical-align: top;\n",
              "    }\n",
              "\n",
              "    .dataframe thead th {\n",
              "        text-align: right;\n",
              "    }\n",
              "</style>\n",
              "<table border=\"1\" class=\"dataframe\">\n",
              "  <thead>\n",
              "    <tr style=\"text-align: right;\">\n",
              "      <th></th>\n",
              "      <th>demographic</th>\n",
              "      <th>sfy</th>\n",
              "      <th>foster_care</th>\n",
              "      <th>relative_care</th>\n",
              "      <th>special_study</th>\n",
              "      <th>therapeutic_foster_care</th>\n",
              "      <th>pdc_safe_home</th>\n",
              "      <th>shelter</th>\n",
              "      <th>group_home</th>\n",
              "      <th>residential</th>\n",
              "      <th>dcf_highmeadows</th>\n",
              "      <th>dcf_solnit</th>\n",
              "      <th>dcf_cjts</th>\n",
              "      <th>hospital</th>\n",
              "      <th>independent_living</th>\n",
              "    </tr>\n",
              "  </thead>\n",
              "  <tbody>\n",
              "    <tr>\n",
              "      <th>0</th>\n",
              "      <td>black</td>\n",
              "      <td>2005</td>\n",
              "      <td>3</td>\n",
              "      <td>2</td>\n",
              "      <td>0</td>\n",
              "      <td>0</td>\n",
              "      <td>2</td>\n",
              "      <td>0</td>\n",
              "      <td>1</td>\n",
              "      <td>45</td>\n",
              "      <td>0</td>\n",
              "      <td>1</td>\n",
              "      <td>23</td>\n",
              "      <td>0</td>\n",
              "      <td>0</td>\n",
              "    </tr>\n",
              "    <tr>\n",
              "      <th>616</th>\n",
              "      <td>black</td>\n",
              "      <td>2014</td>\n",
              "      <td>34</td>\n",
              "      <td>19</td>\n",
              "      <td>2</td>\n",
              "      <td>3</td>\n",
              "      <td>2</td>\n",
              "      <td>3</td>\n",
              "      <td>5</td>\n",
              "      <td>5</td>\n",
              "      <td>0</td>\n",
              "      <td>0</td>\n",
              "      <td>14</td>\n",
              "      <td>1</td>\n",
              "      <td>2</td>\n",
              "    </tr>\n",
              "    <tr>\n",
              "      <th>232</th>\n",
              "      <td>black</td>\n",
              "      <td>2008</td>\n",
              "      <td>29</td>\n",
              "      <td>11</td>\n",
              "      <td>1</td>\n",
              "      <td>1</td>\n",
              "      <td>12</td>\n",
              "      <td>3</td>\n",
              "      <td>0</td>\n",
              "      <td>1</td>\n",
              "      <td>1</td>\n",
              "      <td>1</td>\n",
              "      <td>0</td>\n",
              "      <td>0</td>\n",
              "      <td>1</td>\n",
              "    </tr>\n",
              "    <tr>\n",
              "      <th>620</th>\n",
              "      <td>black</td>\n",
              "      <td>2014</td>\n",
              "      <td>0</td>\n",
              "      <td>1</td>\n",
              "      <td>0</td>\n",
              "      <td>0</td>\n",
              "      <td>1</td>\n",
              "      <td>4</td>\n",
              "      <td>0</td>\n",
              "      <td>0</td>\n",
              "      <td>0</td>\n",
              "      <td>0</td>\n",
              "      <td>0</td>\n",
              "      <td>0</td>\n",
              "      <td>0</td>\n",
              "    </tr>\n",
              "    <tr>\n",
              "      <th>228</th>\n",
              "      <td>black</td>\n",
              "      <td>2008</td>\n",
              "      <td>55</td>\n",
              "      <td>27</td>\n",
              "      <td>4</td>\n",
              "      <td>6</td>\n",
              "      <td>22</td>\n",
              "      <td>8</td>\n",
              "      <td>6</td>\n",
              "      <td>8</td>\n",
              "      <td>0</td>\n",
              "      <td>0</td>\n",
              "      <td>1</td>\n",
              "      <td>2</td>\n",
              "      <td>2</td>\n",
              "    </tr>\n",
              "    <tr>\n",
              "      <th>624</th>\n",
              "      <td>black</td>\n",
              "      <td>2014</td>\n",
              "      <td>10</td>\n",
              "      <td>11</td>\n",
              "      <td>5</td>\n",
              "      <td>0</td>\n",
              "      <td>1</td>\n",
              "      <td>3</td>\n",
              "      <td>0</td>\n",
              "      <td>3</td>\n",
              "      <td>0</td>\n",
              "      <td>0</td>\n",
              "      <td>2</td>\n",
              "      <td>1</td>\n",
              "      <td>0</td>\n",
              "    </tr>\n",
              "    <tr>\n",
              "      <th>628</th>\n",
              "      <td>black</td>\n",
              "      <td>2014</td>\n",
              "      <td>3</td>\n",
              "      <td>1</td>\n",
              "      <td>0</td>\n",
              "      <td>0</td>\n",
              "      <td>0</td>\n",
              "      <td>0</td>\n",
              "      <td>0</td>\n",
              "      <td>0</td>\n",
              "      <td>0</td>\n",
              "      <td>0</td>\n",
              "      <td>0</td>\n",
              "      <td>0</td>\n",
              "      <td>0</td>\n",
              "    </tr>\n",
              "    <tr>\n",
              "      <th>612</th>\n",
              "      <td>black</td>\n",
              "      <td>2014</td>\n",
              "      <td>9</td>\n",
              "      <td>5</td>\n",
              "      <td>0</td>\n",
              "      <td>0</td>\n",
              "      <td>0</td>\n",
              "      <td>1</td>\n",
              "      <td>0</td>\n",
              "      <td>1</td>\n",
              "      <td>0</td>\n",
              "      <td>0</td>\n",
              "      <td>0</td>\n",
              "      <td>0</td>\n",
              "      <td>0</td>\n",
              "    </tr>\n",
              "    <tr>\n",
              "      <th>224</th>\n",
              "      <td>black</td>\n",
              "      <td>2008</td>\n",
              "      <td>1</td>\n",
              "      <td>0</td>\n",
              "      <td>0</td>\n",
              "      <td>0</td>\n",
              "      <td>1</td>\n",
              "      <td>0</td>\n",
              "      <td>0</td>\n",
              "      <td>0</td>\n",
              "      <td>0</td>\n",
              "      <td>0</td>\n",
              "      <td>0</td>\n",
              "      <td>0</td>\n",
              "      <td>0</td>\n",
              "    </tr>\n",
              "    <tr>\n",
              "      <th>220</th>\n",
              "      <td>black</td>\n",
              "      <td>2008</td>\n",
              "      <td>39</td>\n",
              "      <td>4</td>\n",
              "      <td>1</td>\n",
              "      <td>0</td>\n",
              "      <td>11</td>\n",
              "      <td>0</td>\n",
              "      <td>1</td>\n",
              "      <td>2</td>\n",
              "      <td>0</td>\n",
              "      <td>0</td>\n",
              "      <td>0</td>\n",
              "      <td>2</td>\n",
              "      <td>0</td>\n",
              "    </tr>\n",
              "  </tbody>\n",
              "</table>\n",
              "</div>"
            ],
            "text/plain": [
              "    demographic   sfy  foster_care  ...  dcf_cjts  hospital  independent_living\n",
              "0         black  2005            3  ...        23         0                   0\n",
              "616       black  2014           34  ...        14         1                   2\n",
              "232       black  2008           29  ...         0         0                   1\n",
              "620       black  2014            0  ...         0         0                   0\n",
              "228       black  2008           55  ...         1         2                   2\n",
              "624       black  2014           10  ...         2         1                   0\n",
              "628       black  2014            3  ...         0         0                   0\n",
              "612       black  2014            9  ...         0         0                   0\n",
              "224       black  2008            1  ...         0         0                   0\n",
              "220       black  2008           39  ...         0         2                   0\n",
              "\n",
              "[10 rows x 15 columns]"
            ]
          },
          "metadata": {
            "tags": []
          },
          "execution_count": 165
        }
      ]
    },
    {
      "cell_type": "markdown",
      "metadata": {
        "id": "hikFA4ekjESk",
        "colab_type": "text"
      },
      "source": [
        "## Exploratory data analysis and feature engineering\n",
        "\n",
        "Look at basic plots, make separate dataframes for each race, perform t-tests, look at pandas.profile, possibly Seaborn plots"
      ]
    },
    {
      "cell_type": "code",
      "metadata": {
        "id": "-TKMWBo66bok",
        "colab_type": "code",
        "colab": {
          "base_uri": "https://localhost:8080/",
          "height": 365
        },
        "outputId": "1ef015b1-bf23-41d3-9a54-f84c97733cd7"
      },
      "source": [
        "# Placements by year and ethnicity\n",
        "sns.catplot(x = 'sfy',\n",
        "            y = 'relative_care',\n",
        "            hue = 'demographic',\n",
        "            kind = 'bar',\n",
        "            data = df_tidy);"
      ],
      "execution_count": 166,
      "outputs": [
        {
          "output_type": "display_data",
          "data": {
            "image/png": "[encoded data removed]",
            "text/plain": [
              "<Figure size 445.475x360 with 1 Axes>"
            ]
          },
          "metadata": {
            "tags": []
          }
        }
      ]
    },
    {
      "cell_type": "code",
      "metadata": {
        "id": "xP5flGVVMhiO",
        "colab_type": "code",
        "outputId": "2771b2c7-8bcb-4492-d3b7-31336bd2e603",
        "colab": {
          "base_uri": "https://localhost:8080/",
          "height": 302
        }
      },
      "source": [
        "import seaborn as sns\n",
        "# See if a Seaborn distribution plot tells us anything\n",
        "x = pd.Series(df_dcf['relative_care'], name='Placements in relative care')\n",
        "sns.distplot(x)"
      ],
      "execution_count": 168,
      "outputs": [
        {
          "output_type": "execute_result",
          "data": {
            "text/plain": [
              "<matplotlib.axes._subplots.AxesSubplot at 0x7f1ee7f46080>"
            ]
          },
          "metadata": {
            "tags": []
          },
          "execution_count": 168
        },
        {
          "output_type": "display_data",
          "data": {
            "image/png": "[encoded data removed]",
            "text/plain": [
              "<Figure size 432x288 with 1 Axes>"
            ]
          },
          "metadata": {
            "tags": []
          }
        }
      ]
    },
    {
      "cell_type": "code",
      "metadata": {
        "id": "FRH2UoDtVBsj",
        "colab_type": "code",
        "outputId": "52534ff0-e87e-4054-d00d-db67b817fa0b",
        "colab": {
          "base_uri": "https://localhost:8080/",
          "height": 285
        }
      },
      "source": [
        "# Line plot shows that values for 'relative_care' are not normally distributed\n",
        "df_dcf['relative_care'].value_counts().sort_index().plot()"
      ],
      "execution_count": 169,
      "outputs": [
        {
          "output_type": "execute_result",
          "data": {
            "text/plain": [
              "<matplotlib.axes._subplots.AxesSubplot at 0x7f1ee7f466a0>"
            ]
          },
          "metadata": {
            "tags": []
          },
          "execution_count": 169
        },
        {
          "output_type": "display_data",
          "data": {
            "image/png": "[encoded data removed]",
            "text/plain": [
              "<Figure size 432x288 with 1 Axes>"
            ]
          },
          "metadata": {
            "tags": []
          }
        }
      ]
    },
    {
      "cell_type": "code",
      "metadata": {
        "id": "nE8IY6CzVLJe",
        "colab_type": "code",
        "outputId": "e1afa8e3-539b-406c-879f-e2418e9eab93",
        "colab": {
          "base_uri": "https://localhost:8080/",
          "height": 285
        }
      },
      "source": [
        "# Histogram shows the same thing in a different way\n",
        "df_dcf['relative_care'].hist(bins=30)"
      ],
      "execution_count": 170,
      "outputs": [
        {
          "output_type": "execute_result",
          "data": {
            "text/plain": [
              "<matplotlib.axes._subplots.AxesSubplot at 0x7f1ee7b9d978>"
            ]
          },
          "metadata": {
            "tags": []
          },
          "execution_count": 170
        },
        {
          "output_type": "display_data",
          "data": {
            "image/png": "[encoded data removed]",
            "text/plain": [
              "<Figure size 432x288 with 1 Axes>"
            ]
          },
          "metadata": {
            "tags": []
          }
        }
      ]
    },
    {
      "cell_type": "code",
      "metadata": {
        "id": "gGrANGrIVowo",
        "colab_type": "code",
        "outputId": "8de6b439-fc60-4a08-d089-e0b416e67eba",
        "colab": {
          "base_uri": "https://localhost:8080/",
          "height": 339
        }
      },
      "source": [
        "# I wonder if there is some linear relationship between, relative_care\n",
        "# and foster_care? Seems yes...but that doesn't really get me anything\n",
        "df_dcf.plot.scatter('relative_care', 'foster_care')"
      ],
      "execution_count": 171,
      "outputs": [
        {
          "output_type": "stream",
          "text": [
            "'c' argument looks like a single numeric RGB or RGBA sequence, which should be avoided as value-mapping will have precedence in case its length matches with 'x' & 'y'.  Please use a 2-D array with a single row if you really want to specify the same RGB or RGBA value for all points.\n"
          ],
          "name": "stderr"
        },
        {
          "output_type": "execute_result",
          "data": {
            "text/plain": [
              "<matplotlib.axes._subplots.AxesSubplot at 0x7f1ee7dc7748>"
            ]
          },
          "metadata": {
            "tags": []
          },
          "execution_count": 171
        },
        {
          "output_type": "display_data",
          "data": {
            "image/png": "[encoded data removed]",
            "text/plain": [
              "<Figure size 432x288 with 1 Axes>"
            ]
          },
          "metadata": {
            "tags": []
          }
        }
      ]
    },
    {
      "cell_type": "code",
      "metadata": {
        "id": "1TzWd0z9Rc-J",
        "colab_type": "code",
        "outputId": "6c79b192-772a-4120-cafa-945beedeb260",
        "colab": {
          "base_uri": "https://localhost:8080/",
          "height": 365
        }
      },
      "source": [
        "# White and Hispanic have higher average relative care placements per reporting unit (office-year)\n",
        "import seaborn as sns\n",
        "sns.catplot(x = 'demographic',\n",
        "            y = 'relative_care',\n",
        "            kind = 'bar',\n",
        "            data = df_dcf);"
      ],
      "execution_count": 172,
      "outputs": [
        {
          "output_type": "display_data",
          "data": {
            "image/png": "[encoded data removed]",
            "text/plain": [
              "<Figure size 360x360 with 1 Axes>"
            ]
          },
          "metadata": {
            "tags": []
          }
        }
      ]
    },
    {
      "cell_type": "code",
      "metadata": {
        "id": "Sj5E5NLoat69",
        "colab_type": "code",
        "outputId": "72b9c741-3174-4574-a1d2-36d3fd1f9a31",
        "colab": {
          "base_uri": "https://localhost:8080/",
          "height": 119
        }
      },
      "source": [
        "# Numbers for the histogram above\n",
        "print('Mean rate of relative care placement')\n",
        "print('OVERALL', round(df_dcf.relative_care.mean(), 2))\n",
        "print('Hispanic:', round(df_dcf[df_dcf['demographic'] == 'hispanic'].relative_care.mean(), 2))\n",
        "print('Black:', round(df_dcf[df_dcf['demographic'] == 'black'].relative_care.mean(), 2))\n",
        "print('White:', round(df_dcf[df_dcf['demographic'] == 'white'].relative_care.mean(), 2))\n",
        "print('Other:', round(df_dcf[df_dcf['demographic'] == 'other'].relative_care.mean(), 2))"
      ],
      "execution_count": 173,
      "outputs": [
        {
          "output_type": "stream",
          "text": [
            "Mean rate of relative care placement\n",
            "OVERALL 8.33\n",
            "Hispanic: 9.98\n",
            "Black: 7.41\n",
            "White: 13.11\n",
            "Other: 2.5\n"
          ],
          "name": "stdout"
        }
      ]
    },
    {
      "cell_type": "code",
      "metadata": {
        "id": "1cNSVfxaYnB_",
        "colab_type": "code",
        "outputId": "19dba5b1-3a37-4740-ee1c-f5012aad35b6",
        "colab": {
          "base_uri": "https://localhost:8080/",
          "height": 365
        }
      },
      "source": [
        "# But there are many more White children in care\n",
        "sns.catplot(x = 'demographic',\n",
        "            y = 'total_entry',\n",
        "            kind = 'bar',\n",
        "            data = df_dcf);"
      ],
      "execution_count": 174,
      "outputs": [
        {
          "output_type": "display_data",
          "data": {
            "image/png": "[encoded data removed]",
            "text/plain": [
              "<Figure size 360x360 with 1 Axes>"
            ]
          },
          "metadata": {
            "tags": []
          }
        }
      ]
    },
    {
      "cell_type": "code",
      "metadata": {
        "id": "F550pahkPTR-",
        "colab_type": "code",
        "outputId": "b387780c-93e6-41de-ed36-181fb34ea150",
        "colab": {
          "base_uri": "https://localhost:8080/",
          "height": 365
        }
      },
      "source": [
        "sns.catplot(x = 'demographic',\n",
        "            y = 'relative_care',\n",
        "            hue = 'sfy',\n",
        "            kind = 'bar',\n",
        "            data = df_dcf);"
      ],
      "execution_count": 175,
      "outputs": [
        {
          "output_type": "display_data",
          "data": {
            "image/png": "[encoded data removed]",
            "text/plain": [
              "<Figure size 427.475x360 with 1 Axes>"
            ]
          },
          "metadata": {
            "tags": []
          }
        }
      ]
    },
    {
      "cell_type": "code",
      "metadata": {
        "id": "4pTpokuTXT11",
        "colab_type": "code",
        "outputId": "2998830f-05d3-4350-8837-8b1c9af4c997",
        "colab": {
          "base_uri": "https://localhost:8080/",
          "height": 285
        }
      },
      "source": [
        "# Violin plot gives more detail on the difference between ethnicities.\n",
        "# Specifically, White and Hispanic have a few entries with very high numbers.\n",
        "sns.violinplot(x='demographic', y='relative_care', data=df_dcf);"
      ],
      "execution_count": 176,
      "outputs": [
        {
          "output_type": "display_data",
          "data": {
            "image/png": "[encoded data removed]",
            "text/plain": [
              "<Figure size 432x288 with 1 Axes>"
            ]
          },
          "metadata": {
            "tags": []
          }
        }
      ]
    },
    {
      "cell_type": "code",
      "metadata": {
        "id": "GGTapIfmx7dq",
        "colab_type": "code",
        "colab": {
          "base_uri": "https://localhost:8080/",
          "height": 365
        },
        "outputId": "76762a6d-fbba-463c-c196-c6d9fbef2a42"
      },
      "source": [
        "# Placements by year and ethnicity\n",
        "sns.catplot(x = 'sfy',\n",
        "            y = 'total_entry',\n",
        "            hue = 'demographic',\n",
        "            kind = 'bar',\n",
        "            data = df_dcf);"
      ],
      "execution_count": 177,
      "outputs": [
        {
          "output_type": "display_data",
          "data": {
            "image/png": "[encoded data removed]",
            "text/plain": [
              "<Figure size 445.475x360 with 1 Axes>"
            ]
          },
          "metadata": {
            "tags": []
          }
        }
      ]
    },
    {
      "cell_type": "code",
      "metadata": {
        "id": "lpU4Qc3hQnWg",
        "colab_type": "code",
        "outputId": "eea8fac1-77a4-455b-9144-44034844d523",
        "colab": {
          "base_uri": "https://localhost:8080/",
          "height": 317
        }
      },
      "source": [
        "df_dcf[df_dcf['demographic']=='white'].describe()"
      ],
      "execution_count": 178,
      "outputs": [
        {
          "output_type": "execute_result",
          "data": {
            "text/html": [
              "<div>\n",
              "<style scoped>\n",
              "    .dataframe tbody tr th:only-of-type {\n",
              "        vertical-align: middle;\n",
              "    }\n",
              "\n",
              "    .dataframe tbody tr th {\n",
              "        vertical-align: top;\n",
              "    }\n",
              "\n",
              "    .dataframe thead th {\n",
              "        text-align: right;\n",
              "    }\n",
              "</style>\n",
              "<table border=\"1\" class=\"dataframe\">\n",
              "  <thead>\n",
              "    <tr style=\"text-align: right;\">\n",
              "      <th></th>\n",
              "      <th>sfy</th>\n",
              "      <th>total_entry</th>\n",
              "      <th>foster_care</th>\n",
              "      <th>relative_care</th>\n",
              "      <th>special_study</th>\n",
              "      <th>therapeutic_foster_care</th>\n",
              "      <th>pdc_safe_home</th>\n",
              "      <th>shelter</th>\n",
              "      <th>group_home</th>\n",
              "      <th>residential</th>\n",
              "      <th>dcf_highmeadows</th>\n",
              "      <th>dcf_solnit</th>\n",
              "      <th>dcf_cjts</th>\n",
              "      <th>hospital</th>\n",
              "      <th>independent_living</th>\n",
              "    </tr>\n",
              "  </thead>\n",
              "  <tbody>\n",
              "    <tr>\n",
              "      <th>count</th>\n",
              "      <td>246.000000</td>\n",
              "      <td>246.000000</td>\n",
              "      <td>246.000000</td>\n",
              "      <td>246.000000</td>\n",
              "      <td>246.000000</td>\n",
              "      <td>246.000000</td>\n",
              "      <td>246.000000</td>\n",
              "      <td>246.000000</td>\n",
              "      <td>246.000000</td>\n",
              "      <td>246.000000</td>\n",
              "      <td>246.000000</td>\n",
              "      <td>246.000000</td>\n",
              "      <td>246.000000</td>\n",
              "      <td>246.000000</td>\n",
              "      <td>246.000000</td>\n",
              "    </tr>\n",
              "    <tr>\n",
              "      <th>mean</th>\n",
              "      <td>2011.873984</td>\n",
              "      <td>52.337398</td>\n",
              "      <td>21.219512</td>\n",
              "      <td>13.109756</td>\n",
              "      <td>2.105691</td>\n",
              "      <td>1.032520</td>\n",
              "      <td>3.715447</td>\n",
              "      <td>2.211382</td>\n",
              "      <td>0.902439</td>\n",
              "      <td>4.504065</td>\n",
              "      <td>0.093496</td>\n",
              "      <td>0.617886</td>\n",
              "      <td>0.569106</td>\n",
              "      <td>1.857724</td>\n",
              "      <td>0.398374</td>\n",
              "    </tr>\n",
              "    <tr>\n",
              "      <th>std</th>\n",
              "      <td>4.093346</td>\n",
              "      <td>38.806532</td>\n",
              "      <td>18.961201</td>\n",
              "      <td>11.934179</td>\n",
              "      <td>2.535666</td>\n",
              "      <td>1.431055</td>\n",
              "      <td>5.367355</td>\n",
              "      <td>2.423531</td>\n",
              "      <td>1.321191</td>\n",
              "      <td>5.792851</td>\n",
              "      <td>0.331044</td>\n",
              "      <td>0.943466</td>\n",
              "      <td>1.379626</td>\n",
              "      <td>2.699978</td>\n",
              "      <td>0.769201</td>\n",
              "    </tr>\n",
              "    <tr>\n",
              "      <th>min</th>\n",
              "      <td>2005.000000</td>\n",
              "      <td>1.000000</td>\n",
              "      <td>0.000000</td>\n",
              "      <td>0.000000</td>\n",
              "      <td>0.000000</td>\n",
              "      <td>0.000000</td>\n",
              "      <td>0.000000</td>\n",
              "      <td>0.000000</td>\n",
              "      <td>0.000000</td>\n",
              "      <td>0.000000</td>\n",
              "      <td>0.000000</td>\n",
              "      <td>0.000000</td>\n",
              "      <td>0.000000</td>\n",
              "      <td>0.000000</td>\n",
              "      <td>0.000000</td>\n",
              "    </tr>\n",
              "    <tr>\n",
              "      <th>25%</th>\n",
              "      <td>2008.000000</td>\n",
              "      <td>22.000000</td>\n",
              "      <td>7.000000</td>\n",
              "      <td>4.000000</td>\n",
              "      <td>0.000000</td>\n",
              "      <td>0.000000</td>\n",
              "      <td>0.000000</td>\n",
              "      <td>0.000000</td>\n",
              "      <td>0.000000</td>\n",
              "      <td>1.000000</td>\n",
              "      <td>0.000000</td>\n",
              "      <td>0.000000</td>\n",
              "      <td>0.000000</td>\n",
              "      <td>0.000000</td>\n",
              "      <td>0.000000</td>\n",
              "    </tr>\n",
              "    <tr>\n",
              "      <th>50%</th>\n",
              "      <td>2012.000000</td>\n",
              "      <td>41.500000</td>\n",
              "      <td>16.000000</td>\n",
              "      <td>10.000000</td>\n",
              "      <td>1.000000</td>\n",
              "      <td>1.000000</td>\n",
              "      <td>1.000000</td>\n",
              "      <td>2.000000</td>\n",
              "      <td>0.000000</td>\n",
              "      <td>3.000000</td>\n",
              "      <td>0.000000</td>\n",
              "      <td>0.000000</td>\n",
              "      <td>0.000000</td>\n",
              "      <td>1.000000</td>\n",
              "      <td>0.000000</td>\n",
              "    </tr>\n",
              "    <tr>\n",
              "      <th>75%</th>\n",
              "      <td>2016.000000</td>\n",
              "      <td>78.000000</td>\n",
              "      <td>33.000000</td>\n",
              "      <td>19.000000</td>\n",
              "      <td>3.000000</td>\n",
              "      <td>2.000000</td>\n",
              "      <td>5.000000</td>\n",
              "      <td>3.000000</td>\n",
              "      <td>1.000000</td>\n",
              "      <td>6.000000</td>\n",
              "      <td>0.000000</td>\n",
              "      <td>1.000000</td>\n",
              "      <td>1.000000</td>\n",
              "      <td>3.000000</td>\n",
              "      <td>1.000000</td>\n",
              "    </tr>\n",
              "    <tr>\n",
              "      <th>max</th>\n",
              "      <td>2018.000000</td>\n",
              "      <td>189.000000</td>\n",
              "      <td>90.000000</td>\n",
              "      <td>54.000000</td>\n",
              "      <td>12.000000</td>\n",
              "      <td>8.000000</td>\n",
              "      <td>24.000000</td>\n",
              "      <td>12.000000</td>\n",
              "      <td>7.000000</td>\n",
              "      <td>40.000000</td>\n",
              "      <td>2.000000</td>\n",
              "      <td>6.000000</td>\n",
              "      <td>10.000000</td>\n",
              "      <td>18.000000</td>\n",
              "      <td>4.000000</td>\n",
              "    </tr>\n",
              "  </tbody>\n",
              "</table>\n",
              "</div>"
            ],
            "text/plain": [
              "               sfy  total_entry  ...    hospital  independent_living\n",
              "count   246.000000   246.000000  ...  246.000000          246.000000\n",
              "mean   2011.873984    52.337398  ...    1.857724            0.398374\n",
              "std       4.093346    38.806532  ...    2.699978            0.769201\n",
              "min    2005.000000     1.000000  ...    0.000000            0.000000\n",
              "25%    2008.000000    22.000000  ...    0.000000            0.000000\n",
              "50%    2012.000000    41.500000  ...    1.000000            0.000000\n",
              "75%    2016.000000    78.000000  ...    3.000000            1.000000\n",
              "max    2018.000000   189.000000  ...   18.000000            4.000000\n",
              "\n",
              "[8 rows x 15 columns]"
            ]
          },
          "metadata": {
            "tags": []
          },
          "execution_count": 178
        }
      ]
    },
    {
      "cell_type": "code",
      "metadata": {
        "id": "h5vwiC91R5Zq",
        "colab_type": "code",
        "colab": {}
      },
      "source": [
        "# Make a column showing ratio of relative care placements to all placements for each column\n",
        "df_dcf['relative_care_ratio'] = df_dcf['relative_care'] / df_dcf['total_entry']"
      ],
      "execution_count": 0,
      "outputs": []
    },
    {
      "cell_type": "code",
      "metadata": {
        "id": "50HN5W3mUC8P",
        "colab_type": "code",
        "outputId": "55919879-26b9-441d-fad8-9f2d3c1e4438",
        "colab": {
          "base_uri": "https://localhost:8080/",
          "height": 170
        }
      },
      "source": [
        "df_dcf['relative_care_ratio'].describe()"
      ],
      "execution_count": 180,
      "outputs": [
        {
          "output_type": "execute_result",
          "data": {
            "text/plain": [
              "count    966.000000\n",
              "mean       0.204059\n",
              "std        0.169165\n",
              "min        0.000000\n",
              "25%        0.075481\n",
              "50%        0.181818\n",
              "75%        0.304986\n",
              "max        1.000000\n",
              "Name: relative_care_ratio, dtype: float64"
            ]
          },
          "metadata": {
            "tags": []
          },
          "execution_count": 180
        }
      ]
    },
    {
      "cell_type": "code",
      "metadata": {
        "id": "L-P5bWQpZOvU",
        "colab_type": "code",
        "outputId": "73f059ee-bae4-46ae-98ea-8fa94e8b7186",
        "colab": {
          "base_uri": "https://localhost:8080/",
          "height": 285
        }
      },
      "source": [
        "sns.violinplot(x='demographic', y='relative_care_ratio', data=df_dcf);"
      ],
      "execution_count": 181,
      "outputs": [
        {
          "output_type": "display_data",
          "data": {
            "image/png": "[encoded data removed]",
            "text/plain": [
              "<Figure size 432x288 with 1 Axes>"
            ]
          },
          "metadata": {
            "tags": []
          }
        }
      ]
    },
    {
      "cell_type": "code",
      "metadata": {
        "id": "UTDe5yZaUPi8",
        "colab_type": "code",
        "outputId": "0785b1b1-11cb-4cee-ef13-14843c516254",
        "colab": {
          "base_uri": "https://localhost:8080/",
          "height": 365
        }
      },
      "source": [
        "# As a percentage, Hispanic relative care placement rates are similar to Other and Black\n",
        "sns.catplot(x = 'demographic',\n",
        "            y = 'relative_care_ratio',\n",
        "            kind = 'bar',\n",
        "            data = df_dcf);"
      ],
      "execution_count": 182,
      "outputs": [
        {
          "output_type": "display_data",
          "data": {
            "image/png": "[encoded data removed]",
            "text/plain": [
              "<Figure size 360x360 with 1 Axes>"
            ]
          },
          "metadata": {
            "tags": []
          }
        }
      ]
    },
    {
      "cell_type": "markdown",
      "metadata": {
        "id": "d_Z1-1P9ZHOM",
        "colab_type": "text"
      },
      "source": [
        "### ANOVA\n",
        "\n",
        "Comparing multiple means with a series of pairwise comparisons is not accurate. We should use an Analysis of Variance Test or an ANOVA. This is a generalization of t-tests to more than two groups. Our null hypothesis states that there are equal means in the populations from which the groups of data were sampled. More succinctly:\n",
        "\n",
        "𝜇1=𝜇2=...=𝜇𝑛\n",
        "\n",
        "for 𝑛 groups of data. Our alternative hypothesis would be that any one of the equivalences in the above equation fail to be met."
      ]
    },
    {
      "cell_type": "code",
      "metadata": {
        "id": "mNYOa88WZQq9",
        "colab_type": "code",
        "outputId": "6794059b-58f6-456c-ba58-775617f4e4d0",
        "colab": {
          "base_uri": "https://localhost:8080/",
          "height": 34
        }
      },
      "source": [
        "import scipy.stats as stats\n",
        "hispanic = df_dcf[df_dcf['demographic'] == 'hispanic'].relative_care\n",
        "black = df_dcf[df_dcf['demographic'] == 'black'].relative_care\n",
        "white = df_dcf[df_dcf['demographic'] == 'white'].relative_care\n",
        "other = df_dcf[df_dcf['demographic'] == 'other'].relative_care\n",
        "stats.f_oneway(hispanic, black, white, other)"
      ],
      "execution_count": 183,
      "outputs": [
        {
          "output_type": "execute_result",
          "data": {
            "text/plain": [
              "F_onewayResult(statistic=54.71841609479271, pvalue=1.1661511214609272e-32)"
            ]
          },
          "metadata": {
            "tags": []
          },
          "execution_count": 183
        }
      ]
    },
    {
      "cell_type": "markdown",
      "metadata": {
        "id": "5t2uvAiG2xbo",
        "colab_type": "text"
      },
      "source": [
        "## Future directions\n",
        "\n",
        "If I replace the strings as numbers, I could run k-means testing to look for clusters. The presumption here would be that we could get a label later indicating the success of the placement, for example did it last for six months, full course of treatment, etc.\n",
        "\n",
        "It would be interesting to put these on a map of the state of Connecticut.\n",
        "\n",
        "It would also be very interesting to analyze the differences between each group."
      ]
    },
    {
      "cell_type": "code",
      "metadata": {
        "id": "NSkZIjd1njRn",
        "colab_type": "code",
        "colab": {}
      },
      "source": [
        ""
      ],
      "execution_count": 0,
      "outputs": []
    }
  ]
}