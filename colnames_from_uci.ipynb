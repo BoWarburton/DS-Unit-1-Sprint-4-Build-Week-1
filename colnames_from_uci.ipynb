{
  "nbformat": 4,
  "nbformat_minor": 0,
  "metadata": {
    "colab": {
      "name": "colnames_from_uci.ipynb",
      "provenance": []
    },
    "kernelspec": {
      "name": "python3",
      "display_name": "Python 3"
    }
  },
  "cells": [
    {
      "cell_type": "code",
      "metadata": {
        "id": "cRyXhHMY1Ne0",
        "colab_type": "code",
        "outputId": "546480f5-3979-4b33-97da-3938913a0994",
        "colab": {
          "base_uri": "https://localhost:8080/",
          "height": 71
        }
      },
      "source": [
        "# Save some typing (sometimes) when using data from UCA ML archive\n",
        "# Download a names file\n",
        "# https://archive.ics.uci.edu/ml/machine-learning-databases/voting-records/house-votes-84.names\n",
        "# Then use the lefthand column in Colaboratory to upload it\n",
        "# Optionalliy, rename the uploaded file to 'names'\n",
        "# Then when you run this, don't type in a file name, just hit enter\n",
        "# The output should have a list you can copy and paste when importing a csv\n",
        "import re\n",
        "headers_list = list()\n",
        "fname = input('Enter file name: ')\n",
        "if len(fname) < 1 : fname = 'names'\n",
        "fh = open(fname)\n",
        "for line in fh:\n",
        "  headers_list = headers_list + (re.findall('^\\s+[0-9]+[.]\\s+([a-z]+)', line))\n",
        "print(headers_list)\n"
      ],
      "execution_count": 0,
      "outputs": [
        {
          "output_type": "stream",
          "text": [
            "Enter file name: \n",
            "['handicapped', 'water', 'adoption', 'physician', 'el', 'religious', 'anti', 'aid', 'mx', 'immigration', 'synfuels', 'education', 'superfund', 'crime', 'duty', 'export']\n"
          ],
          "name": "stdout"
        }
      ]
    }
  ]
}